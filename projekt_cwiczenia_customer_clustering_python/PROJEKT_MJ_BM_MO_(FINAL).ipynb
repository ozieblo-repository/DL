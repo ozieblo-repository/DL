{
  "nbformat": 4,
  "nbformat_minor": 0,
  "metadata": {
    "colab": {
      "name": "PROJEKT_MJ_BM_MO (FINAL).ipynb",
      "provenance": [],
      "collapsed_sections": []
    },
    "kernelspec": {
      "display_name": "Python 3",
      "language": "python",
      "name": "python3"
    },
    "language_info": {
      "codemirror_mode": {
        "name": "ipython",
        "version": 3
      },
      "file_extension": ".py",
      "mimetype": "text/x-python",
      "name": "python",
      "nbconvert_exporter": "python",
      "pygments_lexer": "ipython3",
      "version": "3.7.4"
    }
  },
  "cells": [
    {
      "cell_type": "markdown",
      "metadata": {
        "colab_type": "text",
        "id": "N9AHcaqD8Q2h"
      },
      "source": [
        "# **Analiza danych i symulacje w języku Python**\n",
        "\n",
        "## **Projekt: Grupowanie nienadzorowane klientów centrum handlowego do opracowania modelu nadzorowanego dla indywidualnych ofert handlowych**\n",
        "\n",
        "Studia Podyplomowe Inżynieria Danych - Big Data, SGH\n",
        "\n",
        "10 maja 2020\n",
        "\n",
        "#### *Autorzy:*\n",
        "`Mateusz Jęczarek,\n",
        "Bartosz Marcinkowski,\n",
        "Michał Oziębło`\n",
        "\n",
        "![alt text](https://p0.pxfuel.com/preview/251/125/143/shopping-mall-shopping-centre-consumption.jpg)"
      ]
    },
    {
      "cell_type": "code",
      "metadata": {
        "colab_type": "code",
        "id": "TJBuwdsYSfG6",
        "outputId": "ca5669e6-a04b-494c-c8d0-5f4568d5efb1",
        "colab": {
          "base_uri": "https://localhost:8080/",
          "height": 17
        }
      },
      "source": [
        "# zmiana szerokości konternera/komórek notebooka\n",
        "from IPython.core.display import display, HTML\n",
        "display(HTML(\"<style>.container { width:100% !important; }</style>\"))"
      ],
      "execution_count": 0,
      "outputs": [
        {
          "output_type": "display_data",
          "data": {
            "text/html": [
              "<style>.container { width:100% !important; }</style>"
            ],
            "text/plain": [
              "<IPython.core.display.HTML object>"
            ]
          },
          "metadata": {
            "tags": []
          }
        }
      ]
    },
    {
      "cell_type": "markdown",
      "metadata": {
        "colab_type": "text",
        "id": "Jo2-sk9uH3ve"
      },
      "source": [
        "#### *Opis problemu badawczego:*\n",
        "`Zbiór danych zawiera podstawowe dane na temat klientów centrum handlowego.\n",
        "Za pomocą uczenia nienadzorowanego metodą klastrowania K-średnich zostaną oni przypisani do grup. \n",
        "Grupy te następnie zostaną zinterpretowane, a informacje te posłużą do napisania modelu nadzorowanego klasyfikacji (drzewa i lasy losowe), pozwalajacego na dopasowanie indywidualnych ofert handlowych zgodnych z preferencjami danego klienta.`\n",
        "\n",
        "#### *Opis zbioru danych:*\n",
        "`Zbiór danych zawiera informacje o wieku, płci, rocznym dochodzie oraz miarę popytu, zależną od deklarowanej w ankietach wartości zakupów podczas wizyty.`\n",
        "\n",
        "`Źródło:` [`Zbiór danych`](https://www.kaggle.com/vjchoudhary7/customer-segmentation-tutorial-in-python?fbclid=IwAR2wjzN4v4Ot8ESuNtKYfnGSPKjHQ7WwEe7LXGY0Ovlw6ahLbpi8iS4SWts#Mall_Customers.csv)\n",
        "\n",
        "#### *Algorytmy zastosowane w projekcie:*\n",
        "\n",
        "**K-means clustering (algorytm klastrowania k-średnich)** - każda grupa jest reprezentowana przez prototyp stanowiący centroid (wartość średnią) podobnych punktów o cechach ciągłych, albo medoid (najbardziej reprezentatywny lub najczęściej występujący punkt) w przypadku cech kategoryzujących. Algorytm próbuje podzielić obserwacje na k grup, z których każda ma podobną wariancję.\n",
        "Działanie można opisać w 5 krokach:\n",
        "\n",
        ">1. Punkty „środkowe” są tworzone w losowo wybranych miejscach.\n",
        "2. Dla każdej obserwacji obliczana jest odległość między obserwacją, a punktami środkowymi k.\n",
        "3. Dla każdej obserwacji obserwacja zostaje przypisana do klastra, którego punkt środkowy znajduje się najbliżej.\n",
        "4. Punkty środkowe są przenoszone na środek odpowiadających im klastrów.\n",
        "5. Kroki 2-4 są powtarzane, dopóki żadna obserwacja nie zmienia klastra. Na tym etapie algorytm zostaje uznany za zbieżny i kończy działanie.<br/>\n",
        "\n",
        "Do najważniejszych zalet tego typu rozwiązania należy uznać łatwą implementację.\n",
        "Natomiast największą wadą jest konieczność odgórnego zdefiniowania liczby klastrów k. Niewłaściwy dobór parametru k to w efekcie niska skuteczność algorytmu.\n",
        "\n",
        "**Elbow method (Metoda łokcia)** - funkcja sumy kwadratów błędów pozwalająca na porównanie skuteczności różnych klasteryzacji metodą centroidów. Oblicza sumę błędów kwadratowych wewnątrz klastra dla różnych wartości parametru k i wybiera jego wartość, dla której ta suma zaczyna się zmniejszać. Na wykresie jest to widoczne jako \"łokieć\".<br/>\n",
        "\n",
        "Największą zaletą metody jest jej prostota. Natomiast największą wadą jest jego wrażliwość na dane przez co określenie ilości optymalnej liczby klastrów może być niejednoznaczne.\n",
        "\n",
        "**The Silhouette method** - Mierzy jak punkt jest podobny do własnego klastra w porównaniu do innych klastrów. Zakres wartości dla miary zawiera się w skali od (-1, 1). Gdzie wartość bliska 1 wskazuje, że punkt jest umieszczony we właściwej grupie. Jeśli wiele punktów ma ujemną wartość, może to oznaczać, że utworzonych zostało za dużo lub za mało klastrów.<br/>\n",
        "\n",
        "The Silhouette method nie należy rozumieć jako alternatywnej metody do metody łokcia, ponieważ metodę łokcia należy rozpatrywać jako decyzyjną, podczas gdy Silhouette jest metodą służącą do sprawdzenia poprawności grupowania.\n",
        "\n",
        "**Drzewa decyzyjne** - to graficzna metoda wspomagania procesu decyzyjnego - za pomocą algorytmu decyzyjnego, tworzony jest korzeń drzewa i rozdzielane są dane wobec cechy mającej największy przyrost informacji. Poprzez wielokrotne iteracje można powtarzać procedurę rozdzielania danych w każdym potomnym węźle, aż uzyskane zostaną same liście. Oznacza to, że wszystkie próbki w danym węźle przynależą do tej samej klasy. \n",
        "\n",
        "Niestety utworzenie optymalnego drzewa decyzyjnego dla treningowego zbioru danych jest procesem wysoce złożonym pod względem charakteru obliczeń. Istnieje także duże ryzyko zbudowania drzewa nadmiernie dopasowanego (przeuczonego) względem treningowego zbioru danych, które nie potrafią tworzyć uogólnień podczas przetwarzania nowych danych.\n",
        "\n",
        "**Lasy losowe** - są odpowiedzią na uniknięcie problemu zbyt mocnego dopasowania drzew decyzyjnych do danych treningowych (mających tendencję do tzw. przeuczenia). \n",
        "Metoda ta polega na tworzeniu wielu drzew decyzyjnych i pozwoleniu im na wybór sposobu klasyfikacji danych wejściowych w drodze głosowania. Dochodzi do tego poprzez wytrenowanie wielu drzew decyzyjnych, przy czym każde z nich otrzymuje tylko próbki początkowe obserwacji, a każdy węzeł analizuje jedynie podzbiór cech podczas wybierania najlepszego sposobu rozgałęzienia. \n",
        "\n",
        "Lasy losowe są sposobem uśredniania wielu głębokich drzew decyzyjnych, wyszkolonych na różnych częściach tego samego zestawu treningowego, celem zmniejszenia wariancji. Odbywa się to kosztem niewielkiego wzrostu obciążenia i pewnej utraty interpretowalności, ale zwiększa wydajność w ostatecznym modelu.\n"
      ]
    },
    {
      "cell_type": "markdown",
      "metadata": {
        "colab_type": "text",
        "id": "HU9HkJ6qcv9Q"
      },
      "source": [
        "###### **Krok 1: Import pakietów**"
      ]
    },
    {
      "cell_type": "code",
      "metadata": {
        "colab_type": "code",
        "id": "ImqZvt07dz5H",
        "outputId": "89214caa-8c69-4fcf-88cf-99aaa5818d92",
        "colab": {
          "base_uri": "https://localhost:8080/",
          "height": 85
        }
      },
      "source": [
        "# import pakietów wykorzystanych w projekcie:\n",
        "import numpy as np # https://numpy.org/devdocs/\n",
        "import pandas as pd # https://pandas.pydata.org/about/\n",
        "import math # https://docs.python.org/3/library/math.html\n",
        "import matplotlib.pyplot as plt # https://matplotlib.org/tutorials/introductory/pyplot.html\n",
        "from matplotlib.pyplot import figure # https://matplotlib.org/3.2.1/api/_as_gen/matplotlib.pyplot.figure.html\n",
        "import plotly.express as px # https://plotly.com/python/plotly-express/\n",
        "import scipy # https://www.scipy.org/about.html # zawiera pandas\n",
        "import random # https://docs.python.org/3/library/random.html\n",
        "from random import gauss\n",
        "from sklearn.cluster import KMeans # https://scikit-learn.org/stable/modules/generated/sklearn.cluster.KMeans.html\n",
        "import copy # https://www.geeksforgeeks.org/copy-python-deep-copy-shallow-copy/\n",
        "from sklearn.metrics import (silhouette_score,\n",
        "                             accuracy_score) # https://scikit-learn.org/stable/modules/generated/sklearn.metrics.silhouette_score.html\n",
        "                             #https://scikit-learn.org/stable/modules/generated/sklearn.metrics.accuracy_score.html#sklearn.metrics.accuracy_score\n",
        "from scipy.cluster.hierarchy import (linkage, \n",
        "                                     fcluster, \n",
        "                                     dendrogram) # https://docs.scipy.org/doc/scipy/reference/cluster.hierarchy.html\n",
        "import seaborn as sns # https://seaborn.pydata.org/introduction.html\n",
        "from scipy import stats # https://docs.scipy.org/doc/scipy/reference/tutorial/stats.html\n",
        "\n",
        "from sklearn.model_selection import train_test_split #https://scikit-learn.org/stable/modules/generated/sklearn.model_selection.train_test_split.html\n",
        "from sklearn.tree import DecisionTreeClassifier #https://scikit-learn.org/stable/modules/generated/sklearn.tree.DecisionTreeClassifier.html?highlight=decisiontreeclassifier#sklearn.tree.DecisionTreeClassifier\n",
        "\n",
        "from pydotplus import graph_from_dot_data #https://pydotplus.readthedocs.io/reference.html\n",
        "from sklearn.tree import export_graphviz #https://scikit-learn.org/stable/modules/generated/sklearn.tree.export_graphviz.html\n",
        "from IPython.display import Image #https://ipython.org/ipython-doc/3/api/generated/IPython.display.html\n",
        "\n",
        "from sklearn.ensemble import RandomForestClassifier #https://scikit-learn.org/stable/modules/generated/sklearn.ensemble.RandomForestClassifier.html\n"
      ],
      "execution_count": 1,
      "outputs": [
        {
          "output_type": "stream",
          "text": [
            "/usr/local/lib/python3.6/dist-packages/statsmodels/tools/_testing.py:19: FutureWarning:\n",
            "\n",
            "pandas.util.testing is deprecated. Use the functions in the public API at pandas.testing instead.\n",
            "\n"
          ],
          "name": "stderr"
        }
      ]
    },
    {
      "cell_type": "markdown",
      "metadata": {
        "colab_type": "text",
        "id": "uvB3AhLBbb9f"
      },
      "source": [
        "###### **Krok 2: Charakterystyka danych**"
      ]
    },
    {
      "cell_type": "code",
      "metadata": {
        "colab_type": "code",
        "id": "c2JtqDcnHbKQ",
        "colab": {}
      },
      "source": [
        "# import danych z pliku.csv do DataFrame:\n",
        "dataset = pd.read_csv(\"Mall_Customers.csv\")"
      ],
      "execution_count": 0,
      "outputs": []
    },
    {
      "cell_type": "code",
      "metadata": {
        "colab_type": "code",
        "id": "QTKqpjoId9DO",
        "outputId": "6dfaa59e-a01a-4a2d-ebc8-6510fbd2752f",
        "colab": {
          "base_uri": "https://localhost:8080/",
          "height": 204
        }
      },
      "source": [
        "dataset.head()"
      ],
      "execution_count": 7,
      "outputs": [
        {
          "output_type": "execute_result",
          "data": {
            "text/html": [
              "<div>\n",
              "<style scoped>\n",
              "    .dataframe tbody tr th:only-of-type {\n",
              "        vertical-align: middle;\n",
              "    }\n",
              "\n",
              "    .dataframe tbody tr th {\n",
              "        vertical-align: top;\n",
              "    }\n",
              "\n",
              "    .dataframe thead th {\n",
              "        text-align: right;\n",
              "    }\n",
              "</style>\n",
              "<table border=\"1\" class=\"dataframe\">\n",
              "  <thead>\n",
              "    <tr style=\"text-align: right;\">\n",
              "      <th></th>\n",
              "      <th>CustomerID</th>\n",
              "      <th>Gender</th>\n",
              "      <th>Age</th>\n",
              "      <th>Annual Income (k$)</th>\n",
              "      <th>Spending Score (1-100)</th>\n",
              "    </tr>\n",
              "  </thead>\n",
              "  <tbody>\n",
              "    <tr>\n",
              "      <th>0</th>\n",
              "      <td>1</td>\n",
              "      <td>Male</td>\n",
              "      <td>19</td>\n",
              "      <td>15</td>\n",
              "      <td>39</td>\n",
              "    </tr>\n",
              "    <tr>\n",
              "      <th>1</th>\n",
              "      <td>2</td>\n",
              "      <td>Male</td>\n",
              "      <td>21</td>\n",
              "      <td>15</td>\n",
              "      <td>81</td>\n",
              "    </tr>\n",
              "    <tr>\n",
              "      <th>2</th>\n",
              "      <td>3</td>\n",
              "      <td>Female</td>\n",
              "      <td>20</td>\n",
              "      <td>16</td>\n",
              "      <td>6</td>\n",
              "    </tr>\n",
              "    <tr>\n",
              "      <th>3</th>\n",
              "      <td>4</td>\n",
              "      <td>Female</td>\n",
              "      <td>23</td>\n",
              "      <td>16</td>\n",
              "      <td>77</td>\n",
              "    </tr>\n",
              "    <tr>\n",
              "      <th>4</th>\n",
              "      <td>5</td>\n",
              "      <td>Female</td>\n",
              "      <td>31</td>\n",
              "      <td>17</td>\n",
              "      <td>40</td>\n",
              "    </tr>\n",
              "  </tbody>\n",
              "</table>\n",
              "</div>"
            ],
            "text/plain": [
              "   CustomerID  Gender  Age  Annual Income (k$)  Spending Score (1-100)\n",
              "0           1    Male   19                  15                      39\n",
              "1           2    Male   21                  15                      81\n",
              "2           3  Female   20                  16                       6\n",
              "3           4  Female   23                  16                      77\n",
              "4           5  Female   31                  17                      40"
            ]
          },
          "metadata": {
            "tags": []
          },
          "execution_count": 7
        }
      ]
    },
    {
      "cell_type": "code",
      "metadata": {
        "colab_type": "code",
        "id": "E15SPSwgeFGk",
        "outputId": "082b7c53-e6f8-4f77-c4b3-968139ee591e",
        "colab": {
          "base_uri": "https://localhost:8080/",
          "height": 297
        }
      },
      "source": [
        "dataset.describe()"
      ],
      "execution_count": 8,
      "outputs": [
        {
          "output_type": "execute_result",
          "data": {
            "text/html": [
              "<div>\n",
              "<style scoped>\n",
              "    .dataframe tbody tr th:only-of-type {\n",
              "        vertical-align: middle;\n",
              "    }\n",
              "\n",
              "    .dataframe tbody tr th {\n",
              "        vertical-align: top;\n",
              "    }\n",
              "\n",
              "    .dataframe thead th {\n",
              "        text-align: right;\n",
              "    }\n",
              "</style>\n",
              "<table border=\"1\" class=\"dataframe\">\n",
              "  <thead>\n",
              "    <tr style=\"text-align: right;\">\n",
              "      <th></th>\n",
              "      <th>CustomerID</th>\n",
              "      <th>Age</th>\n",
              "      <th>Annual Income (k$)</th>\n",
              "      <th>Spending Score (1-100)</th>\n",
              "    </tr>\n",
              "  </thead>\n",
              "  <tbody>\n",
              "    <tr>\n",
              "      <th>count</th>\n",
              "      <td>200.000000</td>\n",
              "      <td>200.000000</td>\n",
              "      <td>200.000000</td>\n",
              "      <td>200.000000</td>\n",
              "    </tr>\n",
              "    <tr>\n",
              "      <th>mean</th>\n",
              "      <td>100.500000</td>\n",
              "      <td>38.850000</td>\n",
              "      <td>60.560000</td>\n",
              "      <td>50.200000</td>\n",
              "    </tr>\n",
              "    <tr>\n",
              "      <th>std</th>\n",
              "      <td>57.879185</td>\n",
              "      <td>13.969007</td>\n",
              "      <td>26.264721</td>\n",
              "      <td>25.823522</td>\n",
              "    </tr>\n",
              "    <tr>\n",
              "      <th>min</th>\n",
              "      <td>1.000000</td>\n",
              "      <td>18.000000</td>\n",
              "      <td>15.000000</td>\n",
              "      <td>1.000000</td>\n",
              "    </tr>\n",
              "    <tr>\n",
              "      <th>25%</th>\n",
              "      <td>50.750000</td>\n",
              "      <td>28.750000</td>\n",
              "      <td>41.500000</td>\n",
              "      <td>34.750000</td>\n",
              "    </tr>\n",
              "    <tr>\n",
              "      <th>50%</th>\n",
              "      <td>100.500000</td>\n",
              "      <td>36.000000</td>\n",
              "      <td>61.500000</td>\n",
              "      <td>50.000000</td>\n",
              "    </tr>\n",
              "    <tr>\n",
              "      <th>75%</th>\n",
              "      <td>150.250000</td>\n",
              "      <td>49.000000</td>\n",
              "      <td>78.000000</td>\n",
              "      <td>73.000000</td>\n",
              "    </tr>\n",
              "    <tr>\n",
              "      <th>max</th>\n",
              "      <td>200.000000</td>\n",
              "      <td>70.000000</td>\n",
              "      <td>137.000000</td>\n",
              "      <td>99.000000</td>\n",
              "    </tr>\n",
              "  </tbody>\n",
              "</table>\n",
              "</div>"
            ],
            "text/plain": [
              "       CustomerID         Age  Annual Income (k$)  Spending Score (1-100)\n",
              "count  200.000000  200.000000          200.000000              200.000000\n",
              "mean   100.500000   38.850000           60.560000               50.200000\n",
              "std     57.879185   13.969007           26.264721               25.823522\n",
              "min      1.000000   18.000000           15.000000                1.000000\n",
              "25%     50.750000   28.750000           41.500000               34.750000\n",
              "50%    100.500000   36.000000           61.500000               50.000000\n",
              "75%    150.250000   49.000000           78.000000               73.000000\n",
              "max    200.000000   70.000000          137.000000               99.000000"
            ]
          },
          "metadata": {
            "tags": []
          },
          "execution_count": 8
        }
      ]
    },
    {
      "cell_type": "markdown",
      "metadata": {
        "colab_type": "text",
        "id": "Fpmd-tyVyq8k"
      },
      "source": [
        "> Zaimportowany plik składa się z 5 kolumn zawierających 200 rekordów, cztery zawierające dane ilościowe i jedną z daną jakościową (płeć):\n",
        "*   `CustomerID` - indentyfikator klienta w bazie danych\n",
        "*   `Gender` - płeć klienta (Male/Female),\n",
        "*   `Age` - wiek klienta,\n",
        "*   `Annual Income (k$)` - roczny dochód klienta, w tysiącach dolarów rocznie,\n",
        "*   `Spending Score (1-100)` - ustandaryzowana miara popytu, zależna od deklarowanej wartości zakupów podczas wizyty (maks. 100)"
      ]
    },
    {
      "cell_type": "markdown",
      "metadata": {
        "colab_type": "text",
        "id": "crKQisBD1kWY"
      },
      "source": [
        "#### **Krok 3: Analiza dystrybucji i wykrycie potencjalnych anomalii w zbiorze danych**"
      ]
    },
    {
      "cell_type": "code",
      "metadata": {
        "colab_type": "code",
        "id": "AM8O12_hI9Nq",
        "outputId": "25797685-2798-4b46-8d49-2dd5843d7063",
        "colab": {
          "base_uri": "https://localhost:8080/",
          "height": 295
        }
      },
      "source": [
        "# AUC dla rozkładu ma wartość 1 ze względu na normalizację liczby osób w populacji dla danej podgrupy wiekowej\n",
        "sns.distplot(dataset['Age'], \n",
        "             kde=False, \n",
        "             label='Wiek', \n",
        "             fit=stats.gamma)\n",
        "plt.title('Rozkład dystrybucji liczebności osób w danej grupie wiekowej')\n",
        "plt.xlabel('Wiek')\n",
        "plt.ylabel('Liczba osób (norm.)')\n",
        "plt.legend()\n",
        "plt.show()"
      ],
      "execution_count": 9,
      "outputs": [
        {
          "output_type": "display_data",
          "data": {
            "image/png": "[encoded data removed]",
            "text/plain": [
              "<Figure size 432x288 with 1 Axes>"
            ]
          },
          "metadata": {
            "tags": [],
            "needs_background": "light"
          }
        }
      ]
    },
    {
      "cell_type": "markdown",
      "metadata": {
        "colab_type": "text",
        "id": "fIym_-ANVYkP"
      },
      "source": [
        "> Wynikiem rozkładu dystrybucji liczebności osób w danej grupie wiekowej jest zbiór lewostronnie skośny, co wynika z tego, że w posiadamy dane dotyczące tylko osób pełnoletnich. Ponadto zbiór pokrywa się z [piramidą wieku ludności](https://www.populationpyramid.net/poland/2019/), czyli nadreprezentowane są osoby w wieku produkcyjnym, a wraz ze wzrostem wieku liczbą przedstawicieli z danej grupy wiekowej spada."
      ]
    },
    {
      "cell_type": "code",
      "metadata": {
        "colab_type": "code",
        "id": "50zdSyMiJt4C",
        "outputId": "241bbba0-8815-4ff7-d972-650266c59150",
        "colab": {
          "base_uri": "https://localhost:8080/",
          "height": 295
        }
      },
      "source": [
        "# AUC dla rozkładu ma wartość 1 ze względu na normalizację liczby osób w populacji dla danej podgrupy wiekowej\n",
        "sns.distplot(dataset['Annual Income (k$)'], \n",
        "             label='Roczne zarobki (k$)')\n",
        "sns.distplot(dataset['Spending Score (1-100)'],\n",
        "             label='Miara popytu (1-100)')\n",
        "plt.title('Rozkład dystrybucji liczebności osób w danej grupie względem zarobków/miary popytu')\n",
        "plt.xlabel('Roczne zarobki (k$)/Miara popytu (1-100)')\n",
        "plt.ylabel('Liczba osób (norm.)')\n",
        "plt.legend()\n",
        "plt.show()\n"
      ],
      "execution_count": 10,
      "outputs": [
        {
          "output_type": "display_data",
          "data": {
            "image/png": "[encoded data removed]",
            "text/plain": [
              "<Figure size 432x288 with 1 Axes>"
            ]
          },
          "metadata": {
            "tags": [],
            "needs_background": "light"
          }
        }
      ]
    },
    {
      "cell_type": "markdown",
      "metadata": {
        "colab_type": "text",
        "id": "BOe3khv4F2ex"
      },
      "source": [
        "> Zbiory powyższych argumentów posiadają charakter rozkładu normalnego."
      ]
    },
    {
      "cell_type": "code",
      "metadata": {
        "colab_type": "code",
        "id": "8M0jOaWLK-0W",
        "outputId": "38893753-4557-490f-97e6-517ed4469d4a",
        "colab": {
          "base_uri": "https://localhost:8080/",
          "height": 448
        }
      },
      "source": [
        "sns.jointplot(x=\"Age\", \n",
        "              y=\"CustomerID\", \n",
        "              data=dataset).set_axis_labels('Wiek', \n",
        "                                            'ID', \n",
        "                                            fontsize=16)\n",
        "plt.subplots_adjust(top=0.9)\n",
        "plt.suptitle('Wykres punktowy wieku klientów w badanej populacji', \n",
        "             fontsize = 16)\n",
        "plt.show()"
      ],
      "execution_count": 11,
      "outputs": [
        {
          "output_type": "display_data",
          "data": {
            "image/png": "[encoded data removed]",
            "text/plain": [
              "<Figure size 432x432 with 3 Axes>"
            ]
          },
          "metadata": {
            "tags": [],
            "needs_background": "light"
          }
        }
      ]
    },
    {
      "cell_type": "markdown",
      "metadata": {
        "colab_type": "text",
        "id": "XPbxOXd0pLKt"
      },
      "source": [
        "> Wykres punktowy wieku klientów w badanej populacji nie przedstawia wartości widocznie odbiegających od normy (anomalii)."
      ]
    },
    {
      "cell_type": "code",
      "metadata": {
        "colab_type": "code",
        "id": "3nq81te7KvAl",
        "outputId": "3c4b8326-b879-422f-bd09-65d428545741",
        "colab": {
          "base_uri": "https://localhost:8080/",
          "height": 449
        }
      },
      "source": [
        "# wartość dochodu rocznego klientów rośnie wraz z indeksem\n",
        "sns.jointplot(x=\"Annual Income (k$)\", \n",
        "              y=\"CustomerID\", \n",
        "              data=dataset).set_axis_labels('Roczny dochód', \n",
        "                                            'ID', \n",
        "                                            fontsize=16)\n",
        "plt.subplots_adjust(top=0.9)\n",
        "plt.suptitle('Wykres punktowy dochodu rocznego klientów w badanej populacji', \n",
        "             fontsize = 16)\n",
        "plt.show()"
      ],
      "execution_count": 12,
      "outputs": [
        {
          "output_type": "display_data",
          "data": {
            "image/png": "[encoded data removed]",
            "text/plain": [
              "<Figure size 432x432 with 3 Axes>"
            ]
          },
          "metadata": {
            "tags": [],
            "needs_background": "light"
          }
        }
      ]
    },
    {
      "cell_type": "markdown",
      "metadata": {
        "colab_type": "text",
        "id": "ZQh2t0F9sGUZ"
      },
      "source": [
        "> Widoczne są pojedyncze próbki dla klientów o najwyższych dochodach. Nie odrzucamy ich jednak z racji na zgodność takiej sytuacji z rzeczywistym rozkładem dochodów w społeczeństwie."
      ]
    },
    {
      "cell_type": "code",
      "metadata": {
        "colab_type": "code",
        "id": "zfhZeIKKK9lc",
        "outputId": "9bbb20ea-d0f7-48d6-d49e-e7d5e4a107a6",
        "colab": {
          "base_uri": "https://localhost:8080/",
          "height": 448
        }
      },
      "source": [
        "sns.jointplot(x=\"Spending Score (1-100)\", \n",
        "              y=\"CustomerID\",\n",
        "              data=dataset).set_axis_labels('Miara popytu', \n",
        "                                            'ID', \n",
        "                                            fontsize=16)\n",
        "plt.subplots_adjust(top=0.9)\n",
        "plt.suptitle('Wykres punktowy miary popytu klientów w badanej populacji', \n",
        "             fontsize = 16)\n",
        "plt.show()"
      ],
      "execution_count": 13,
      "outputs": [
        {
          "output_type": "display_data",
          "data": {
            "image/png": "[encoded data removed]",
            "text/plain": [
              "<Figure size 432x432 with 3 Axes>"
            ]
          },
          "metadata": {
            "tags": [],
            "needs_background": "light"
          }
        }
      ]
    },
    {
      "cell_type": "markdown",
      "metadata": {
        "colab_type": "text",
        "id": "h6EOcG2mtGRB"
      },
      "source": [
        "> Widoczny jest charakterystyczny rozkład na pięć grup. Pomiędzy nimi nie wyróżniają się wartości dające się scharakteryzować jako anomalie."
      ]
    },
    {
      "cell_type": "markdown",
      "metadata": {
        "colab_type": "text",
        "id": "g9biHlxz00A-"
      },
      "source": [
        "#### **Krok 4: Analiza argumentów względem płci:**\n",
        "\n",
        "Wykorzystywanie różnych rodzajów danych do klastrowania, tj. zarówno numerycznych (np. zarobki, wiek), jak i kategorycznych (np. płeć), jest pewnym wyzwaniem, gdyż centroidy w algorytmie K-średnich odwołują się do danych numerycznych. **Wobec tego, w naszej analizie nie grupujemy klientów z uwzględnieniem ich płci, tj. zmiennej jakościowej/kategorycznej.** Dzięki temu, finalna reprezentacja wyników pozwala na reprezentację graficzną na wykresie trójwymiarowym. Dane na temat płci będą wartościowe podczas konstrukcji klasyfikatora oferty indywidualnej.\n",
        "\n",
        "```\n",
        "# This is formatted as code\n",
        "```\n",
        "\n",
        " Kilka kolejnych kroków opisuje rozkład płci naszych klientów w populacji badanej, oraz wieku i miary popytu względem płci."
      ]
    },
    {
      "cell_type": "code",
      "metadata": {
        "colab_type": "code",
        "id": "A9ju7R3f_coZ",
        "outputId": "4543e7e1-af24-4f5d-dfb8-f746b258c26f",
        "colab": {
          "base_uri": "https://localhost:8080/",
          "height": 68
        }
      },
      "source": [
        "# odczytanie proporcji kobiet i mężczyzn w zbiorze:\n",
        "dataset['Gender'].value_counts()"
      ],
      "execution_count": 14,
      "outputs": [
        {
          "output_type": "execute_result",
          "data": {
            "text/plain": [
              "Female    112\n",
              "Male       88\n",
              "Name: Gender, dtype: int64"
            ]
          },
          "metadata": {
            "tags": []
          },
          "execution_count": 14
        }
      ]
    },
    {
      "cell_type": "code",
      "metadata": {
        "colab_type": "code",
        "id": "dab9NzEpU5dN",
        "outputId": "cd1d8750-05f2-4077-9f42-969dfa1e9dfd",
        "colab": {
          "base_uri": "https://localhost:8080/",
          "height": 34
        }
      },
      "source": [
        "print(\"Procent kobiet w populacji klientów: \", (dataset[dataset['Gender'] == 'Female'].shape[0]/dataset['Gender'].shape[0])*100, '%')"
      ],
      "execution_count": 15,
      "outputs": [
        {
          "output_type": "stream",
          "text": [
            "Procent kobiet w populacji klientów:  56.00000000000001 %\n"
          ],
          "name": "stdout"
        }
      ]
    },
    {
      "cell_type": "code",
      "metadata": {
        "colab_type": "code",
        "id": "N7l8Y95t5iB9",
        "outputId": "98c77950-8648-4b90-bfe5-bf6380da87df",
        "colab": {
          "base_uri": "https://localhost:8080/",
          "height": 446
        }
      },
      "source": [
        "# histogram - liczba/wiek klientów względem płci:\n",
        "bins = np.linspace(10, 80, 15)\n",
        "shift = 0.5\n",
        "\n",
        "figure(num=None, \n",
        "       figsize=(14, 6), \n",
        "       dpi=80, \n",
        "       facecolor='w', \n",
        "       edgecolor='k')\n",
        "\n",
        "plt.hist('Age', \n",
        "         bins=bins+shift, \n",
        "         data=dataset[dataset['Gender'] == 'Female'], \n",
        "         color='red', \n",
        "         alpha=0.9, \n",
        "         label='Kobieta',\n",
        "         histtype='bar',\n",
        "         ec='black',\n",
        "         rwidth=0.8)\n",
        "plt.hist('Age', \n",
        "         bins=bins, \n",
        "         data=dataset[dataset['Gender'] == 'Male'], \n",
        "         color='blue', \n",
        "         alpha=0.7, \n",
        "         label='Mężczyzna',\n",
        "         histtype='bar',\n",
        "         ec='black',\n",
        "         rwidth=0.8)\n",
        "plt.title('WIEK KLIENTÓW WZGLĘDEM PŁCI:')\n",
        "plt.xlabel('Wiek')\n",
        "plt.ylabel('Liczba klientów')\n",
        "plt.legend()\n",
        "plt.show()"
      ],
      "execution_count": 16,
      "outputs": [
        {
          "output_type": "display_data",
          "data": {
            "image/png": "[encoded data removed]",
            "text/plain": [
              "<Figure size 1120x480 with 1 Axes>"
            ]
          },
          "metadata": {
            "tags": []
          }
        }
      ]
    },
    {
      "cell_type": "code",
      "metadata": {
        "colab_type": "code",
        "id": "TcauSobHWXeS",
        "outputId": "1ba59b7f-f8e8-4ff2-bae9-ea37c36f6d0e",
        "colab": {
          "base_uri": "https://localhost:8080/",
          "height": 85
        }
      },
      "source": [
        "print(\"Procent kobiet w wieku 30-35 lat w populacji klientów obu płci: \", \n",
        "      (dataset.loc[(dataset['Gender'] == 'Female') & (dataset['Age'] >= 30) & (dataset['Age'] <= 35)].shape[0]/dataset.shape[0])*100, '%')\n",
        "print(\"Procent kobiet w wieku 30-35 lat w żeńskiej populacji klientów: \", \n",
        "      (dataset.loc[(dataset['Gender'] == 'Female') & (dataset['Age'] >= 30) & (dataset['Age'] <= 35)].shape[0]/dataset[dataset['Gender'] == 'Female'].shape[0])*100, '%')\n",
        "print(\"Procent mężczyzn w wieku 30-35 lat w populacji klientów obu płci: \", \n",
        "      (dataset.loc[(dataset['Gender'] == 'Male') & (dataset['Age'] >= 30) & (dataset['Age'] <= 35)].shape[0]/dataset.shape[0])*100, '%')\n",
        "print(\"Procent mężczyzn w wieku 30-35 lat w męskiej populacji klientów: \", \n",
        "      (dataset.loc[(dataset['Gender'] == 'Male') & (dataset['Age'] >= 30) & (dataset['Age'] <= 35)].shape[0]/dataset[dataset['Gender'] == 'Male'].shape[0])*100, '%')"
      ],
      "execution_count": 17,
      "outputs": [
        {
          "output_type": "stream",
          "text": [
            "Procent kobiet w wieku 30-35 lat w populacji klientów obu płci:  14.000000000000002 %\n",
            "Procent kobiet w wieku 30-35 lat w żeńskiej populacji klientów:  25.0 %\n",
            "Procent mężczyzn w wieku 30-35 lat w populacji klientów obu płci:  7.5 %\n",
            "Procent mężczyzn w wieku 30-35 lat w męskiej populacji klientów:  17.045454545454543 %\n"
          ],
          "name": "stdout"
        }
      ]
    },
    {
      "cell_type": "code",
      "metadata": {
        "colab_type": "code",
        "id": "ozUpkVedlvNq",
        "outputId": "042bc9c3-9dd4-4da8-ced5-11baae1bd67f",
        "colab": {
          "base_uri": "https://localhost:8080/",
          "height": 444
        }
      },
      "source": [
        "# histogram - liczba/miara popytu klientów względem płci:\n",
        "bins = np.linspace(0, 100, 20)\n",
        "shift=0.7\n",
        "\n",
        "figure(num=None, \n",
        "       figsize=(14, 6), \n",
        "       dpi=80, \n",
        "       facecolor='w', \n",
        "       edgecolor='k')\n",
        "\n",
        "plt.hist('Spending Score (1-100)',\n",
        "         bins=bins+shift, \n",
        "         data=dataset[dataset['Gender'] == 'Female'], \n",
        "         color='red', \n",
        "         alpha=0.9, \n",
        "         label='Kobieta',\n",
        "         histtype='bar',\n",
        "         ec='black',\n",
        "         rwidth=0.8)\n",
        "plt.hist('Spending Score (1-100)', \n",
        "         bins=bins, \n",
        "         data=dataset[dataset['Gender'] == 'Male'], \n",
        "         color='blue', \n",
        "         alpha=0.7, \n",
        "         label='Mężczyzna',\n",
        "         histtype='bar',\n",
        "         ec='black',\n",
        "         rwidth=0.8);\n",
        "plt.title('MIARA POPYTU WZGLĘDEM PŁCI')\n",
        "plt.xlabel('MIARA POPYTU (1-100)')\n",
        "plt.ylabel('Liczba klientów')\n",
        "plt.legend()\n",
        "plt.show()"
      ],
      "execution_count": 18,
      "outputs": [
        {
          "output_type": "display_data",
          "data": {
            "image/png": "[encoded data removed]",
            "text/plain": [
              "<Figure size 1120x480 with 1 Axes>"
            ]
          },
          "metadata": {
            "tags": []
          }
        }
      ]
    },
    {
      "cell_type": "code",
      "metadata": {
        "colab_type": "code",
        "id": "LO-_-E9hd6Sk",
        "outputId": "fc1af34d-f5ea-4fd7-d6ef-7c39984d0203",
        "colab": {
          "base_uri": "https://localhost:8080/",
          "height": 295
        }
      },
      "source": [
        "# AUC dla rozkładu ma wartość 1 ze względu na normalizację liczby osób w populacji dla danej podgrupy wiekowej\n",
        "sns.distplot(dataset['Spending Score (1-100)'][dataset['Gender'] == 'Female'])\n",
        "plt.title('Rozkład miary popytu wśród kobiet')\n",
        "plt.xlabel('Miara popytu')\n",
        "plt.ylabel('Liczba osób (norm.)')\n",
        "plt.show()"
      ],
      "execution_count": 19,
      "outputs": [
        {
          "output_type": "display_data",
          "data": {
            "image/png": "[encoded data removed]",
            "text/plain": [
              "<Figure size 432x288 with 1 Axes>"
            ]
          },
          "metadata": {
            "tags": [],
            "needs_background": "light"
          }
        }
      ]
    },
    {
      "cell_type": "code",
      "metadata": {
        "colab_type": "code",
        "id": "tFD4FXzcap3y",
        "outputId": "3cf69d7b-a4b5-408d-ad2c-be583f11c8ac",
        "colab": {
          "base_uri": "https://localhost:8080/",
          "height": 295
        }
      },
      "source": [
        "# AUC dla rozkładu ma wartość 1 ze względu na normalizację liczby osób w populacji dla danej podgrupy wiekowej\n",
        "sns.distplot(dataset['Spending Score (1-100)'][dataset['Gender'] == 'Male'])\n",
        "plt.title('Rozkład miary popytu wśród mężczyzn')\n",
        "plt.xlabel('Miara popytu')\n",
        "plt.ylabel('Liczba osób (norm.)')\n",
        "plt.show()"
      ],
      "execution_count": 20,
      "outputs": [
        {
          "output_type": "display_data",
          "data": {
            "image/png": "[encoded data removed]",
            "text/plain": [
              "<Figure size 432x288 with 1 Axes>"
            ]
          },
          "metadata": {
            "tags": [],
            "needs_background": "light"
          }
        }
      ]
    },
    {
      "cell_type": "markdown",
      "metadata": {
        "colab_type": "text",
        "id": "y3GfHLv7blaZ"
      },
      "source": [
        "> ##### Wnioski cząstkowe dla analizy argumentów względem płci:\n",
        "* w badanej populacji klientów odwiedzających centrum handlowe dominują kobiety (56%)\n",
        "* dla obu płci najwięcej klientów centrum ma około 30-35 lat, w tym wśród kobiet jest to aż 25% badanej populacji\n",
        "* miara popytu dla kobiet ma charakter rozkładu normalnego, zaś wśród mężczyzn jest widoczna anomalia polegająca na relatywnie dużym udziale mężczyzn o niskim popycie podczas wizyty w centrum"
      ]
    },
    {
      "cell_type": "markdown",
      "metadata": {
        "colab_type": "text",
        "id": "VQHMB70R1c_K"
      },
      "source": [
        "#### **Krok 5: Algorytm klastrowania metodą K-średnich**"
      ]
    },
    {
      "cell_type": "code",
      "metadata": {
        "colab_type": "code",
        "id": "VbojVAma89A-",
        "colab": {}
      },
      "source": [
        "# Selekcja zmiennych do algorytmu klastrowania:\n",
        "df = dataset[['Age', \n",
        "              'Annual Income (k$)',\n",
        "              'Spending Score (1-100)']]"
      ],
      "execution_count": 0,
      "outputs": []
    },
    {
      "cell_type": "markdown",
      "metadata": {
        "colab_type": "text",
        "id": "JW8V0IiIhUI6"
      },
      "source": [
        "#### Estymacja optymalnej liczby klastrów:"
      ]
    },
    {
      "cell_type": "code",
      "metadata": {
        "colab_type": "code",
        "id": "vZhPOum6nWT_",
        "outputId": "385d6eb8-b530-4718-e039-985004ac244d",
        "colab": {
          "base_uri": "https://localhost:8080/",
          "height": 295
        }
      },
      "source": [
        "#Elbow method:\n",
        "wb = []\n",
        "for i in range(1, 11):\n",
        "    kmeans = KMeans(n_clusters = i)\n",
        "    kmeans.fit(df)\n",
        "    wb.append(kmeans.inertia_)\n",
        "\n",
        "plt.plot(range(1, 11), \n",
        "         wb, \n",
        "         linestyle='--', \n",
        "         marker='o')\n",
        "plt.title('The Elbow Method (\"Metoda łokciowa\")')\n",
        "plt.xlabel('Liczba klastrów')\n",
        "plt.ylabel('Suma kwadratów błędów')\n",
        "plt.show()"
      ],
      "execution_count": 22,
      "outputs": [
        {
          "output_type": "display_data",
          "data": {
            "image/png": "[encoded data removed]",
            "text/plain": [
              "<Figure size 432x288 with 1 Axes>"
            ]
          },
          "metadata": {
            "tags": [],
            "needs_background": "light"
          }
        }
      ]
    },
    {
      "cell_type": "markdown",
      "metadata": {
        "colab_type": "text",
        "id": "T9dqlBFryB6I"
      },
      "source": [
        "Metoda łokcia w naszym przypadku nie pozwala definitywnie określić liczby optymalnych klastrów, wykres wskazuje jedynie delikatne przełamanie dla wartości 5. Dlatego konieczne będzie zastosowanie metody The Silhouette Method."
      ]
    },
    {
      "cell_type": "code",
      "metadata": {
        "colab_type": "code",
        "id": "oHuY6SlBhsKM",
        "outputId": "0428958e-43fb-4153-968f-bd09edbd67d4",
        "colab": {
          "base_uri": "https://localhost:8080/",
          "height": 295
        }
      },
      "source": [
        "# Metoda Silhouette'a:\n",
        "\n",
        "sil = []\n",
        "kmax = 11\n",
        "\n",
        "# dissimilarity would not be defined for a single cluster, thus, minimum number of clusters should be 2\n",
        "for k in range(2, kmax+1):\n",
        "  kmeans = KMeans(n_clusters = k).fit(df)\n",
        "  labels = kmeans.labels_\n",
        "  sil.append(silhouette_score(df, \n",
        "                              labels, \n",
        "                              metric = 'euclidean'))\n",
        "\n",
        "plt.plot(range(1, 11), \n",
        "         sil, \n",
        "         linestyle='--', \n",
        "         marker='o')\n",
        "plt.title('The Silhouette Method')\n",
        "plt.xlabel('Liczba klastrów')\n",
        "plt.ylabel('Silhouette score')\n",
        "plt.show()\n",
        "\n",
        "#The Silhouette Score reaches its global maximum at the optimal k"
      ],
      "execution_count": 23,
      "outputs": [
        {
          "output_type": "display_data",
          "data": {
            "image/png": "[encoded data removed]",
            "text/plain": [
              "<Figure size 432x288 with 1 Axes>"
            ]
          },
          "metadata": {
            "tags": [],
            "needs_background": "light"
          }
        }
      ]
    },
    {
      "cell_type": "markdown",
      "metadata": {
        "colab_type": "text",
        "id": "YEXypZ04yFwD"
      },
      "source": [
        "Z powyższego wykresu jasno wynika, że optymalną liczbą klastrów będzie 5."
      ]
    },
    {
      "cell_type": "markdown",
      "metadata": {
        "colab_type": "text",
        "id": "WdOOvgg42WVj"
      },
      "source": [
        "#### Parametryzacja modelu:"
      ]
    },
    {
      "cell_type": "code",
      "metadata": {
        "colab_type": "code",
        "id": "JZfpyVWboAJ3",
        "outputId": "24e2cd5e-10ce-4a90-d67f-433df9e909ad",
        "colab": {
          "base_uri": "https://localhost:8080/",
          "height": 419
        }
      },
      "source": [
        "random.seed(1)\n",
        "\n",
        "kmeans = KMeans(n_clusters=5)\n",
        "kmeans.fit(df)\n",
        "km_pred = kmeans.predict(df)\n",
        "\n",
        "df_copy = copy.copy(df) # deep copy: https://www.programiz.com/python-programming/shallow-deep-copy\n",
        "df_copy['Cluster'] = [str(i) for i in km_pred]\n",
        "df_copy"
      ],
      "execution_count": 24,
      "outputs": [
        {
          "output_type": "execute_result",
          "data": {
            "text/html": [
              "<div>\n",
              "<style scoped>\n",
              "    .dataframe tbody tr th:only-of-type {\n",
              "        vertical-align: middle;\n",
              "    }\n",
              "\n",
              "    .dataframe tbody tr th {\n",
              "        vertical-align: top;\n",
              "    }\n",
              "\n",
              "    .dataframe thead th {\n",
              "        text-align: right;\n",
              "    }\n",
              "</style>\n",
              "<table border=\"1\" class=\"dataframe\">\n",
              "  <thead>\n",
              "    <tr style=\"text-align: right;\">\n",
              "      <th></th>\n",
              "      <th>Age</th>\n",
              "      <th>Annual Income (k$)</th>\n",
              "      <th>Spending Score (1-100)</th>\n",
              "      <th>Cluster</th>\n",
              "    </tr>\n",
              "  </thead>\n",
              "  <tbody>\n",
              "    <tr>\n",
              "      <th>0</th>\n",
              "      <td>19</td>\n",
              "      <td>15</td>\n",
              "      <td>39</td>\n",
              "      <td>4</td>\n",
              "    </tr>\n",
              "    <tr>\n",
              "      <th>1</th>\n",
              "      <td>21</td>\n",
              "      <td>15</td>\n",
              "      <td>81</td>\n",
              "      <td>2</td>\n",
              "    </tr>\n",
              "    <tr>\n",
              "      <th>2</th>\n",
              "      <td>20</td>\n",
              "      <td>16</td>\n",
              "      <td>6</td>\n",
              "      <td>4</td>\n",
              "    </tr>\n",
              "    <tr>\n",
              "      <th>3</th>\n",
              "      <td>23</td>\n",
              "      <td>16</td>\n",
              "      <td>77</td>\n",
              "      <td>2</td>\n",
              "    </tr>\n",
              "    <tr>\n",
              "      <th>4</th>\n",
              "      <td>31</td>\n",
              "      <td>17</td>\n",
              "      <td>40</td>\n",
              "      <td>4</td>\n",
              "    </tr>\n",
              "    <tr>\n",
              "      <th>...</th>\n",
              "      <td>...</td>\n",
              "      <td>...</td>\n",
              "      <td>...</td>\n",
              "      <td>...</td>\n",
              "    </tr>\n",
              "    <tr>\n",
              "      <th>195</th>\n",
              "      <td>35</td>\n",
              "      <td>120</td>\n",
              "      <td>79</td>\n",
              "      <td>1</td>\n",
              "    </tr>\n",
              "    <tr>\n",
              "      <th>196</th>\n",
              "      <td>45</td>\n",
              "      <td>126</td>\n",
              "      <td>28</td>\n",
              "      <td>3</td>\n",
              "    </tr>\n",
              "    <tr>\n",
              "      <th>197</th>\n",
              "      <td>32</td>\n",
              "      <td>126</td>\n",
              "      <td>74</td>\n",
              "      <td>1</td>\n",
              "    </tr>\n",
              "    <tr>\n",
              "      <th>198</th>\n",
              "      <td>32</td>\n",
              "      <td>137</td>\n",
              "      <td>18</td>\n",
              "      <td>3</td>\n",
              "    </tr>\n",
              "    <tr>\n",
              "      <th>199</th>\n",
              "      <td>30</td>\n",
              "      <td>137</td>\n",
              "      <td>83</td>\n",
              "      <td>1</td>\n",
              "    </tr>\n",
              "  </tbody>\n",
              "</table>\n",
              "<p>200 rows × 4 columns</p>\n",
              "</div>"
            ],
            "text/plain": [
              "     Age  Annual Income (k$)  Spending Score (1-100) Cluster\n",
              "0     19                  15                      39       4\n",
              "1     21                  15                      81       2\n",
              "2     20                  16                       6       4\n",
              "3     23                  16                      77       2\n",
              "4     31                  17                      40       4\n",
              "..   ...                 ...                     ...     ...\n",
              "195   35                 120                      79       1\n",
              "196   45                 126                      28       3\n",
              "197   32                 126                      74       1\n",
              "198   32                 137                      18       3\n",
              "199   30                 137                      83       1\n",
              "\n",
              "[200 rows x 4 columns]"
            ]
          },
          "metadata": {
            "tags": []
          },
          "execution_count": 24
        }
      ]
    },
    {
      "cell_type": "markdown",
      "metadata": {
        "colab_type": "text",
        "id": "75fNbByg2lSU"
      },
      "source": [
        "#### Wykres dla modelu:"
      ]
    },
    {
      "cell_type": "code",
      "metadata": {
        "colab_type": "code",
        "id": "29CdHUWdo096",
        "outputId": "c839f9ce-2984-4552-a202-2732d9b445c2",
        "colab": {
          "base_uri": "https://localhost:8080/",
          "height": 542
        }
      },
      "source": [
        "wykres_kmean = px.scatter_3d(df_copy, \n",
        "                    x='Age', \n",
        "                    y='Annual Income (k$)', \n",
        "                    z='Spending Score (1-100)', \n",
        "                    color='Cluster') \n",
        "wykres_kmean.show()"
      ],
      "execution_count": 25,
      "outputs": [
        {
          "output_type": "display_data",
          "data": {
            "text/html": [
              "<html>\n",
              "<head><meta charset=\"utf-8\" /></head>\n",
              "<body>\n",
              "    <div>\n",
              "            <script src=\"https://cdnjs.cloudflare.com/ajax/libs/mathjax/2.7.5/MathJax.js?config=TeX-AMS-MML_SVG\"></script><script type=\"text/javascript\">if (window.MathJax) {MathJax.Hub.Config({SVG: {font: \"STIX-Web\"}});}</script>\n",
              "                <script type=\"text/javascript\">window.PlotlyConfig = {MathJaxConfig: 'local'};</script>\n",
              "        <script src=\"https://cdn.plot.ly/plotly-latest.min.js\"></script>    \n",
              "            <div id=\"00850854-32fe-407a-bfb9-a6d6abe6c1b3\" class=\"plotly-graph-div\" style=\"height:525px; width:100%;\"></div>\n",
              "            <script type=\"text/javascript\">\n",
              "                \n",
              "                    window.PLOTLYENV=window.PLOTLYENV || {};\n",
              "                    \n",
              "                if (document.getElementById(\"00850854-32fe-407a-bfb9-a6d6abe6c1b3\")) {\n",
              "                    Plotly.newPlot(\n",
              "                        '00850854-32fe-407a-bfb9-a6d6abe6c1b3',\n",
              "                        [{\"hoverlabel\": {\"namelength\": 0}, \"hovertemplate\": \"Cluster=4<br>Age=%{x}<br>Annual Income (k$)=%{y}<br>Spending Score (1-100)=%{z}\", \"legendgroup\": \"Cluster=4\", \"marker\": {\"color\": \"#636efa\", \"symbol\": \"circle\"}, \"mode\": \"markers\", \"name\": \"Cluster=4\", \"scene\": \"scene\", \"showlegend\": true, \"type\": \"scatter3d\", \"x\": [19, 20, 31, 35, 64, 67, 58, 37, 35, 52, 35, 46, 54, 45, 40, 60, 53, 49, 42, 36, 65, 48, 49], \"y\": [15, 16, 17, 18, 19, 19, 20, 20, 21, 23, 24, 25, 28, 28, 29, 30, 33, 33, 34, 37, 38, 39, 39], \"z\": [39, 6, 40, 6, 3, 14, 15, 13, 35, 29, 35, 5, 14, 32, 31, 4, 4, 14, 17, 26, 35, 36, 28]}, {\"hoverlabel\": {\"namelength\": 0}, \"hovertemplate\": \"Cluster=2<br>Age=%{x}<br>Annual Income (k$)=%{y}<br>Spending Score (1-100)=%{z}\", \"legendgroup\": \"Cluster=2\", \"marker\": {\"color\": \"#EF553B\", \"symbol\": \"circle\"}, \"mode\": \"markers\", \"name\": \"Cluster=2\", \"scene\": \"scene\", \"showlegend\": true, \"type\": \"scatter3d\", \"x\": [21, 23, 22, 23, 30, 35, 24, 22, 20, 35, 25, 31, 29, 35, 23, 21, 18, 21, 30, 20, 24, 31, 24], \"y\": [15, 16, 17, 18, 19, 19, 20, 20, 21, 23, 24, 25, 28, 28, 29, 30, 33, 33, 34, 37, 38, 39, 39], \"z\": [81, 77, 76, 94, 72, 99, 77, 79, 66, 98, 73, 73, 82, 61, 87, 73, 92, 81, 73, 75, 92, 61, 65]}, {\"hoverlabel\": {\"namelength\": 0}, \"hovertemplate\": \"Cluster=0<br>Age=%{x}<br>Annual Income (k$)=%{y}<br>Spending Score (1-100)=%{z}\", \"legendgroup\": \"Cluster=0\", \"marker\": {\"color\": \"#00cc96\", \"symbol\": \"circle\"}, \"mode\": \"markers\", \"name\": \"Cluster=0\", \"scene\": \"scene\", \"showlegend\": true, \"type\": \"scatter3d\", \"x\": [50, 27, 29, 31, 49, 33, 31, 59, 50, 47, 51, 69, 27, 53, 70, 19, 67, 54, 63, 18, 43, 68, 19, 32, 70, 47, 60, 60, 59, 26, 45, 40, 23, 49, 57, 38, 67, 46, 21, 48, 55, 22, 34, 50, 68, 18, 48, 40, 32, 24, 47, 27, 48, 20, 23, 49, 67, 26, 49, 21, 66, 54, 68, 66, 65, 19, 38, 19, 18, 19, 63, 49, 51, 50, 27, 38, 40, 43, 28], \"y\": [40, 40, 40, 40, 42, 42, 43, 43, 43, 43, 44, 44, 46, 46, 46, 46, 47, 47, 48, 48, 48, 48, 48, 48, 49, 49, 50, 50, 54, 54, 54, 54, 54, 54, 54, 54, 54, 54, 54, 54, 57, 57, 58, 58, 59, 59, 60, 60, 60, 60, 60, 60, 61, 61, 62, 62, 62, 62, 62, 62, 63, 63, 63, 63, 63, 63, 64, 64, 65, 65, 65, 65, 67, 67, 67, 67, 69, 71, 76], \"z\": [55, 47, 42, 42, 52, 60, 54, 60, 45, 41, 50, 46, 51, 46, 56, 55, 52, 59, 51, 59, 50, 48, 59, 47, 55, 42, 49, 56, 47, 54, 53, 48, 52, 42, 51, 55, 41, 44, 57, 46, 58, 55, 60, 46, 55, 41, 49, 40, 42, 52, 47, 50, 42, 49, 41, 48, 59, 55, 56, 42, 50, 46, 43, 48, 52, 54, 42, 46, 48, 50, 43, 59, 43, 57, 56, 40, 58, 35, 40]}, {\"hoverlabel\": {\"namelength\": 0}, \"hovertemplate\": \"Cluster=1<br>Age=%{x}<br>Annual Income (k$)=%{y}<br>Spending Score (1-100)=%{z}\", \"legendgroup\": \"Cluster=1\", \"marker\": {\"color\": \"#ab63fa\", \"symbol\": \"circle\"}, \"mode\": \"markers\", \"name\": \"Cluster=1\", \"scene\": \"scene\", \"showlegend\": true, \"type\": \"scatter3d\", \"x\": [39, 31, 40, 38, 39, 31, 29, 32, 35, 32, 32, 28, 32, 34, 39, 38, 27, 30, 30, 29, 31, 36, 33, 32, 28, 36, 30, 27, 35, 32, 29, 30, 28, 36, 32, 38, 35, 32, 30], \"y\": [69, 70, 71, 71, 71, 72, 73, 73, 74, 75, 76, 77, 77, 78, 78, 78, 78, 78, 78, 79, 81, 85, 86, 87, 87, 87, 88, 88, 93, 97, 98, 99, 101, 103, 103, 113, 120, 126, 137], \"z\": [91, 77, 95, 75, 75, 71, 88, 73, 72, 93, 87, 97, 74, 90, 88, 76, 89, 78, 73, 83, 93, 75, 95, 63, 75, 92, 86, 69, 90, 86, 88, 97, 68, 85, 69, 91, 79, 74, 83]}, {\"hoverlabel\": {\"namelength\": 0}, \"hovertemplate\": \"Cluster=3<br>Age=%{x}<br>Annual Income (k$)=%{y}<br>Spending Score (1-100)=%{z}\", \"legendgroup\": \"Cluster=3\", \"marker\": {\"color\": \"#FFA15A\", \"symbol\": \"circle\"}, \"mode\": \"markers\", \"name\": \"Cluster=3\", \"scene\": \"scene\", \"showlegend\": true, \"type\": \"scatter3d\", \"x\": [23, 59, 47, 25, 20, 44, 19, 57, 25, 48, 34, 43, 44, 47, 37, 34, 56, 19, 50, 42, 36, 40, 36, 52, 58, 59, 37, 46, 41, 54, 41, 34, 33, 47, 45, 32], \"y\": [70, 71, 71, 72, 73, 73, 74, 75, 77, 77, 78, 78, 78, 78, 78, 78, 79, 81, 85, 86, 87, 87, 87, 88, 88, 93, 97, 98, 99, 101, 103, 103, 113, 120, 126, 137], \"z\": [29, 11, 9, 34, 5, 7, 10, 5, 12, 36, 22, 17, 20, 16, 1, 1, 35, 5, 26, 20, 27, 13, 10, 13, 15, 14, 32, 15, 39, 24, 17, 23, 8, 16, 28, 18]}],\n",
              "                        {\"legend\": {\"tracegroupgap\": 0}, \"margin\": {\"t\": 60}, \"scene\": {\"domain\": {\"x\": [0.0, 1.0], \"y\": [0.0, 1.0]}, \"xaxis\": {\"title\": {\"text\": \"Age\"}}, \"yaxis\": {\"title\": {\"text\": \"Annual Income (k$)\"}}, \"zaxis\": {\"title\": {\"text\": \"Spending Score (1-100)\"}}}, \"template\": {\"data\": {\"bar\": [{\"error_x\": {\"color\": \"#2a3f5f\"}, \"error_y\": {\"color\": \"#2a3f5f\"}, \"marker\": {\"line\": {\"color\": \"#E5ECF6\", \"width\": 0.5}}, \"type\": \"bar\"}], \"barpolar\": [{\"marker\": {\"line\": {\"color\": \"#E5ECF6\", \"width\": 0.5}}, \"type\": \"barpolar\"}], \"carpet\": [{\"aaxis\": {\"endlinecolor\": \"#2a3f5f\", \"gridcolor\": \"white\", \"linecolor\": \"white\", \"minorgridcolor\": \"white\", \"startlinecolor\": \"#2a3f5f\"}, \"baxis\": {\"endlinecolor\": \"#2a3f5f\", \"gridcolor\": \"white\", \"linecolor\": \"white\", \"minorgridcolor\": \"white\", \"startlinecolor\": \"#2a3f5f\"}, \"type\": \"carpet\"}], \"choropleth\": [{\"colorbar\": {\"outlinewidth\": 0, \"ticks\": \"\"}, \"type\": \"choropleth\"}], \"contour\": [{\"colorbar\": {\"outlinewidth\": 0, \"ticks\": \"\"}, \"colorscale\": [[0.0, \"#0d0887\"], [0.1111111111111111, \"#46039f\"], [0.2222222222222222, \"#7201a8\"], [0.3333333333333333, \"#9c179e\"], [0.4444444444444444, \"#bd3786\"], [0.5555555555555556, \"#d8576b\"], [0.6666666666666666, \"#ed7953\"], [0.7777777777777778, \"#fb9f3a\"], [0.8888888888888888, \"#fdca26\"], [1.0, \"#f0f921\"]], \"type\": \"contour\"}], \"contourcarpet\": [{\"colorbar\": {\"outlinewidth\": 0, \"ticks\": \"\"}, \"type\": \"contourcarpet\"}], \"heatmap\": [{\"colorbar\": {\"outlinewidth\": 0, \"ticks\": \"\"}, \"colorscale\": [[0.0, \"#0d0887\"], [0.1111111111111111, \"#46039f\"], [0.2222222222222222, \"#7201a8\"], [0.3333333333333333, \"#9c179e\"], [0.4444444444444444, \"#bd3786\"], [0.5555555555555556, \"#d8576b\"], [0.6666666666666666, \"#ed7953\"], [0.7777777777777778, \"#fb9f3a\"], [0.8888888888888888, \"#fdca26\"], [1.0, \"#f0f921\"]], \"type\": \"heatmap\"}], \"heatmapgl\": [{\"colorbar\": {\"outlinewidth\": 0, \"ticks\": \"\"}, \"colorscale\": [[0.0, \"#0d0887\"], [0.1111111111111111, \"#46039f\"], [0.2222222222222222, \"#7201a8\"], [0.3333333333333333, \"#9c179e\"], [0.4444444444444444, \"#bd3786\"], [0.5555555555555556, \"#d8576b\"], [0.6666666666666666, \"#ed7953\"], [0.7777777777777778, \"#fb9f3a\"], [0.8888888888888888, \"#fdca26\"], [1.0, \"#f0f921\"]], \"type\": \"heatmapgl\"}], \"histogram\": [{\"marker\": {\"colorbar\": {\"outlinewidth\": 0, \"ticks\": \"\"}}, \"type\": \"histogram\"}], \"histogram2d\": [{\"colorbar\": {\"outlinewidth\": 0, \"ticks\": \"\"}, \"colorscale\": [[0.0, \"#0d0887\"], [0.1111111111111111, \"#46039f\"], [0.2222222222222222, \"#7201a8\"], [0.3333333333333333, \"#9c179e\"], [0.4444444444444444, \"#bd3786\"], [0.5555555555555556, \"#d8576b\"], [0.6666666666666666, \"#ed7953\"], [0.7777777777777778, \"#fb9f3a\"], [0.8888888888888888, \"#fdca26\"], [1.0, \"#f0f921\"]], \"type\": \"histogram2d\"}], \"histogram2dcontour\": [{\"colorbar\": {\"outlinewidth\": 0, \"ticks\": \"\"}, \"colorscale\": [[0.0, \"#0d0887\"], [0.1111111111111111, \"#46039f\"], [0.2222222222222222, \"#7201a8\"], [0.3333333333333333, \"#9c179e\"], [0.4444444444444444, \"#bd3786\"], [0.5555555555555556, \"#d8576b\"], [0.6666666666666666, \"#ed7953\"], [0.7777777777777778, \"#fb9f3a\"], [0.8888888888888888, \"#fdca26\"], [1.0, \"#f0f921\"]], \"type\": \"histogram2dcontour\"}], \"mesh3d\": [{\"colorbar\": {\"outlinewidth\": 0, \"ticks\": \"\"}, \"type\": \"mesh3d\"}], \"parcoords\": [{\"line\": {\"colorbar\": {\"outlinewidth\": 0, \"ticks\": \"\"}}, \"type\": \"parcoords\"}], \"pie\": [{\"automargin\": true, \"type\": \"pie\"}], \"scatter\": [{\"marker\": {\"colorbar\": {\"outlinewidth\": 0, \"ticks\": \"\"}}, \"type\": \"scatter\"}], \"scatter3d\": [{\"line\": {\"colorbar\": {\"outlinewidth\": 0, \"ticks\": \"\"}}, \"marker\": {\"colorbar\": {\"outlinewidth\": 0, \"ticks\": \"\"}}, \"type\": \"scatter3d\"}], \"scattercarpet\": [{\"marker\": {\"colorbar\": {\"outlinewidth\": 0, \"ticks\": \"\"}}, \"type\": \"scattercarpet\"}], \"scattergeo\": [{\"marker\": {\"colorbar\": {\"outlinewidth\": 0, \"ticks\": \"\"}}, \"type\": \"scattergeo\"}], \"scattergl\": [{\"marker\": {\"colorbar\": {\"outlinewidth\": 0, \"ticks\": \"\"}}, \"type\": \"scattergl\"}], \"scattermapbox\": [{\"marker\": {\"colorbar\": {\"outlinewidth\": 0, \"ticks\": \"\"}}, \"type\": \"scattermapbox\"}], \"scatterpolar\": [{\"marker\": {\"colorbar\": {\"outlinewidth\": 0, \"ticks\": \"\"}}, \"type\": \"scatterpolar\"}], \"scatterpolargl\": [{\"marker\": {\"colorbar\": {\"outlinewidth\": 0, \"ticks\": \"\"}}, \"type\": \"scatterpolargl\"}], \"scatterternary\": [{\"marker\": {\"colorbar\": {\"outlinewidth\": 0, \"ticks\": \"\"}}, \"type\": \"scatterternary\"}], \"surface\": [{\"colorbar\": {\"outlinewidth\": 0, \"ticks\": \"\"}, \"colorscale\": [[0.0, \"#0d0887\"], [0.1111111111111111, \"#46039f\"], [0.2222222222222222, \"#7201a8\"], [0.3333333333333333, \"#9c179e\"], [0.4444444444444444, \"#bd3786\"], [0.5555555555555556, \"#d8576b\"], [0.6666666666666666, \"#ed7953\"], [0.7777777777777778, \"#fb9f3a\"], [0.8888888888888888, \"#fdca26\"], [1.0, \"#f0f921\"]], \"type\": \"surface\"}], \"table\": [{\"cells\": {\"fill\": {\"color\": \"#EBF0F8\"}, \"line\": {\"color\": \"white\"}}, \"header\": {\"fill\": {\"color\": \"#C8D4E3\"}, \"line\": {\"color\": \"white\"}}, \"type\": \"table\"}]}, \"layout\": {\"annotationdefaults\": {\"arrowcolor\": \"#2a3f5f\", \"arrowhead\": 0, \"arrowwidth\": 1}, \"coloraxis\": {\"colorbar\": {\"outlinewidth\": 0, \"ticks\": \"\"}}, \"colorscale\": {\"diverging\": [[0, \"#8e0152\"], [0.1, \"#c51b7d\"], [0.2, \"#de77ae\"], [0.3, \"#f1b6da\"], [0.4, \"#fde0ef\"], [0.5, \"#f7f7f7\"], [0.6, \"#e6f5d0\"], [0.7, \"#b8e186\"], [0.8, \"#7fbc41\"], [0.9, \"#4d9221\"], [1, \"#276419\"]], \"sequential\": [[0.0, \"#0d0887\"], [0.1111111111111111, \"#46039f\"], [0.2222222222222222, \"#7201a8\"], [0.3333333333333333, \"#9c179e\"], [0.4444444444444444, \"#bd3786\"], [0.5555555555555556, \"#d8576b\"], [0.6666666666666666, \"#ed7953\"], [0.7777777777777778, \"#fb9f3a\"], [0.8888888888888888, \"#fdca26\"], [1.0, \"#f0f921\"]], \"sequentialminus\": [[0.0, \"#0d0887\"], [0.1111111111111111, \"#46039f\"], [0.2222222222222222, \"#7201a8\"], [0.3333333333333333, \"#9c179e\"], [0.4444444444444444, \"#bd3786\"], [0.5555555555555556, \"#d8576b\"], [0.6666666666666666, \"#ed7953\"], [0.7777777777777778, \"#fb9f3a\"], [0.8888888888888888, \"#fdca26\"], [1.0, \"#f0f921\"]]}, \"colorway\": [\"#636efa\", \"#EF553B\", \"#00cc96\", \"#ab63fa\", \"#FFA15A\", \"#19d3f3\", \"#FF6692\", \"#B6E880\", \"#FF97FF\", \"#FECB52\"], \"font\": {\"color\": \"#2a3f5f\"}, \"geo\": {\"bgcolor\": \"white\", \"lakecolor\": \"white\", \"landcolor\": \"#E5ECF6\", \"showlakes\": true, \"showland\": true, \"subunitcolor\": \"white\"}, \"hoverlabel\": {\"align\": \"left\"}, \"hovermode\": \"closest\", \"mapbox\": {\"style\": \"light\"}, \"paper_bgcolor\": \"white\", \"plot_bgcolor\": \"#E5ECF6\", \"polar\": {\"angularaxis\": {\"gridcolor\": \"white\", \"linecolor\": \"white\", \"ticks\": \"\"}, \"bgcolor\": \"#E5ECF6\", \"radialaxis\": {\"gridcolor\": \"white\", \"linecolor\": \"white\", \"ticks\": \"\"}}, \"scene\": {\"xaxis\": {\"backgroundcolor\": \"#E5ECF6\", \"gridcolor\": \"white\", \"gridwidth\": 2, \"linecolor\": \"white\", \"showbackground\": true, \"ticks\": \"\", \"zerolinecolor\": \"white\"}, \"yaxis\": {\"backgroundcolor\": \"#E5ECF6\", \"gridcolor\": \"white\", \"gridwidth\": 2, \"linecolor\": \"white\", \"showbackground\": true, \"ticks\": \"\", \"zerolinecolor\": \"white\"}, \"zaxis\": {\"backgroundcolor\": \"#E5ECF6\", \"gridcolor\": \"white\", \"gridwidth\": 2, \"linecolor\": \"white\", \"showbackground\": true, \"ticks\": \"\", \"zerolinecolor\": \"white\"}}, \"shapedefaults\": {\"line\": {\"color\": \"#2a3f5f\"}}, \"ternary\": {\"aaxis\": {\"gridcolor\": \"white\", \"linecolor\": \"white\", \"ticks\": \"\"}, \"baxis\": {\"gridcolor\": \"white\", \"linecolor\": \"white\", \"ticks\": \"\"}, \"bgcolor\": \"#E5ECF6\", \"caxis\": {\"gridcolor\": \"white\", \"linecolor\": \"white\", \"ticks\": \"\"}}, \"title\": {\"x\": 0.05}, \"xaxis\": {\"automargin\": true, \"gridcolor\": \"white\", \"linecolor\": \"white\", \"ticks\": \"\", \"title\": {\"standoff\": 15}, \"zerolinecolor\": \"white\", \"zerolinewidth\": 2}, \"yaxis\": {\"automargin\": true, \"gridcolor\": \"white\", \"linecolor\": \"white\", \"ticks\": \"\", \"title\": {\"standoff\": 15}, \"zerolinecolor\": \"white\", \"zerolinewidth\": 2}}}},\n",
              "                        {\"responsive\": true}\n",
              "                    ).then(function(){\n",
              "                            \n",
              "var gd = document.getElementById('00850854-32fe-407a-bfb9-a6d6abe6c1b3');\n",
              "var x = new MutationObserver(function (mutations, observer) {{\n",
              "        var display = window.getComputedStyle(gd).display;\n",
              "        if (!display || display === 'none') {{\n",
              "            console.log([gd, 'removed!']);\n",
              "            Plotly.purge(gd);\n",
              "            observer.disconnect();\n",
              "        }}\n",
              "}});\n",
              "\n",
              "// Listen for the removal of the full notebook cells\n",
              "var notebookContainer = gd.closest('#notebook-container');\n",
              "if (notebookContainer) {{\n",
              "    x.observe(notebookContainer, {childList: true});\n",
              "}}\n",
              "\n",
              "// Listen for the clearing of the current output cell\n",
              "var outputEl = gd.closest('.output');\n",
              "if (outputEl) {{\n",
              "    x.observe(outputEl, {childList: true});\n",
              "}}\n",
              "\n",
              "                        })\n",
              "                };\n",
              "                \n",
              "            </script>\n",
              "        </div>\n",
              "</body>\n",
              "</html>"
            ]
          },
          "metadata": {
            "tags": []
          }
        }
      ]
    },
    {
      "cell_type": "markdown",
      "metadata": {
        "colab_type": "text",
        "id": "EQ9K322O21Kd"
      },
      "source": [
        "#### Na podstawie naszej analizy, okazało się, że naszych klientów można podzielić na 5 kategorii:\n",
        "\n",
        "* `Młodzi konsumenci` – jest to grupa najmłodszych klientów z grupy o najniższych zarobkach wydających sporo pieniędzy w centrum handlowym. Można przypuszczać, że centrum handlowe dla nich sposób na spędzanie wolnego czasu, umawiają się ze zanjomymi, chodzą na zakupu, do kina itp.\n",
        "\n",
        "* `Pragmatycy z przymusu` – są to osoby z grupy tych o najmniejszych rocznych zarobkach, wydający najmniej w centrum, czyli przychodzą w konkretnym celu. Są to osoby głównie w wieku średnim oraz starsze.\n",
        "\n",
        "* `Klasa średnia` – są to osoby charakteryzujące się zarobkami oraz wydatkami w centrum najbardziej zbliżonymi do średniej. Podobnie jak pragmatycy z wyboru są to osoby o bardzo zróżnicowanym wieku. Można przypuszczać, że jest to nasza klasa średnia.\n",
        "\n",
        "* `Młodzi rozrzutni` – są to osoby młodsze o stosunkowo wysokich zarobkach które wydają w centrum.\n",
        "\n",
        "* `Pragmatycy z wyboru` – osoby o zarobkach wyższych od średniej, raczej w średnim wieku, którzy jednocześnie mało wydają w naszym centrum. Możliwe, że wynikać to może z braku oferty w naszym centrum dla takich osób, potencjalny duży target który nie jest przez nas zagospodarowany.\n",
        "\n",
        "Posiadając tak zdefinowane grupy, chcielibyśmy zbudować algorytm, który każdego klienta przyporządkowywałby do jednej z powyższych grup - da nam to możliwość skierowania ofert specjalnych odpowiednio przemyślanych pod kątem każdej z grup i zmaksymalizowania wyników sprzedażowych."
      ]
    },
    {
      "cell_type": "code",
      "metadata": {
        "colab_type": "code",
        "id": "zaxb90wrEvSA",
        "colab": {}
      },
      "source": [
        "##Z racji na losowe i niepowtarzalne we wtórnych iteracjach wyniki przypisywania etykiet przez algorytm, \n",
        "##wyniki z bieżącej analizy zostaną zapisane do nowej wynikowej bazy danych po dodaniu słownie opisanych etykiet\n",
        "\n",
        "#new_label = []\n",
        "\n",
        "#for i in df_copy['Cluster']:\n",
        "#  if i == \"0\":\n",
        "#    new_label.append(\"Młodzi rozrzutni\")\n",
        "#  elif i == \"1\":\n",
        "#    new_label.append(\"Młodzi konsumenci\")\n",
        "#  elif i == \"2\":\n",
        "#    new_label.append(\"Pragmatycy z przymusu\")\n",
        "#  elif i == \"3\":\n",
        "#    new_label.append(\"Klasa średnia\")\n",
        "#  elif i == \"4\":\n",
        "#    new_label.append(\"Pragmatycy z wyboru\")\n",
        "\n",
        "#df_copy[\"Label\"] = new_label"
      ],
      "execution_count": 0,
      "outputs": []
    },
    {
      "cell_type": "code",
      "metadata": {
        "colab_type": "code",
        "id": "ZQHZM8auIGUX",
        "outputId": "066de55a-7e2a-454e-ce78-fbb5054b730c",
        "colab": {
          "base_uri": "https://localhost:8080/",
          "height": 74
        }
      },
      "source": [
        "##Eksport wyników w postaci pliku .csv do dysku sieciowego w usłudze Google Drive:\n",
        "\n",
        "#from google.colab import drive\n",
        "#drive.mount('/content/drive')\n",
        "#df_copy.to_csv('drive/My Drive/df.csv')"
      ],
      "execution_count": 0,
      "outputs": [
        {
          "output_type": "stream",
          "text": [
            "Drive already mounted at /content/drive; to attempt to forcibly remount, call drive.mount(\"/content/drive\", force_remount=True).\n"
          ],
          "name": "stdout"
        }
      ]
    },
    {
      "cell_type": "code",
      "metadata": {
        "colab_type": "code",
        "id": "GpxESALj3ETx",
        "colab": {}
      },
      "source": [
        "#Wyniki analizy z iteracji podczas wykonania projektu:\n",
        "df_copy = pd.read_csv(\"df.csv\")"
      ],
      "execution_count": 0,
      "outputs": []
    },
    {
      "cell_type": "code",
      "metadata": {
        "colab_type": "code",
        "id": "2N0tRzgvNiXm",
        "colab": {}
      },
      "source": [
        "#Zapis wyników do zmiennej wyniki_przed_norm w celu późniejszego porównania względem wyników po normalizacji danych:\n",
        "wyniki_przed_norm = df_copy['Cluster']"
      ],
      "execution_count": 0,
      "outputs": []
    },
    {
      "cell_type": "markdown",
      "metadata": {
        "colab_type": "text",
        "id": "WN63RMqdtS5V"
      },
      "source": [
        "#### **Krok 5.1: Normalizacja danych dla modelu i porównanie wyników**\n",
        "\n",
        "Powyższe analizy oraz charakterystyka danych branych pod uwagę do grupowania (tj. ich zbliżony rząd wielkości) pozwalają na stwierdzenie, że normalizacja danych w naszym przypadku nie powinna mieć znaczącego wpływu na wyniki:\n",
        "*   Popyt (1-100) \n",
        "*   Roczne zarobki (15-137)\n",
        "*   Wiek (18-70)\n",
        "\n",
        "Mimo to, sprawdźmy jakie rezultaty osiągniemy, gdy dane zostaną znormalizowane."
      ]
    },
    {
      "cell_type": "code",
      "metadata": {
        "colab_type": "code",
        "id": "2y0eZIT0vxhn",
        "outputId": "30a0cb0f-8f88-4d7e-da0b-bc6786ae1d64",
        "colab": {
          "base_uri": "https://localhost:8080/",
          "height": 419
        }
      },
      "source": [
        "df_norm = copy.copy(df)\n",
        "df_norm.columns = [0,1,2]\n",
        "\n",
        "for i in range(3):\n",
        "  df_norm[i] = [n/np.std(df_norm[i]) for n in df_norm[i]]\n",
        "\n",
        "df_norm.columns = ['Age(Norm.)',\n",
        "                   'Annual_Income(Norm.)',\n",
        "                   'Spending_Score(Norm.)']\n",
        "df_norm"
      ],
      "execution_count": 29,
      "outputs": [
        {
          "output_type": "execute_result",
          "data": {
            "text/html": [
              "<div>\n",
              "<style scoped>\n",
              "    .dataframe tbody tr th:only-of-type {\n",
              "        vertical-align: middle;\n",
              "    }\n",
              "\n",
              "    .dataframe tbody tr th {\n",
              "        vertical-align: top;\n",
              "    }\n",
              "\n",
              "    .dataframe thead th {\n",
              "        text-align: right;\n",
              "    }\n",
              "</style>\n",
              "<table border=\"1\" class=\"dataframe\">\n",
              "  <thead>\n",
              "    <tr style=\"text-align: right;\">\n",
              "      <th></th>\n",
              "      <th>Age(Norm.)</th>\n",
              "      <th>Annual_Income(Norm.)</th>\n",
              "      <th>Spending_Score(Norm.)</th>\n",
              "    </tr>\n",
              "  </thead>\n",
              "  <tbody>\n",
              "    <tr>\n",
              "      <th>0</th>\n",
              "      <td>1.363567</td>\n",
              "      <td>0.572541</td>\n",
              "      <td>1.514041</td>\n",
              "    </tr>\n",
              "    <tr>\n",
              "      <th>1</th>\n",
              "      <td>1.507100</td>\n",
              "      <td>0.572541</td>\n",
              "      <td>3.144546</td>\n",
              "    </tr>\n",
              "    <tr>\n",
              "      <th>2</th>\n",
              "      <td>1.435334</td>\n",
              "      <td>0.610711</td>\n",
              "      <td>0.232929</td>\n",
              "    </tr>\n",
              "    <tr>\n",
              "      <th>3</th>\n",
              "      <td>1.650634</td>\n",
              "      <td>0.610711</td>\n",
              "      <td>2.989260</td>\n",
              "    </tr>\n",
              "    <tr>\n",
              "      <th>4</th>\n",
              "      <td>2.224767</td>\n",
              "      <td>0.648880</td>\n",
              "      <td>1.552862</td>\n",
              "    </tr>\n",
              "    <tr>\n",
              "      <th>...</th>\n",
              "      <td>...</td>\n",
              "      <td>...</td>\n",
              "      <td>...</td>\n",
              "    </tr>\n",
              "    <tr>\n",
              "      <th>195</th>\n",
              "      <td>2.511834</td>\n",
              "      <td>4.580332</td>\n",
              "      <td>3.066903</td>\n",
              "    </tr>\n",
              "    <tr>\n",
              "      <th>196</th>\n",
              "      <td>3.229501</td>\n",
              "      <td>4.809348</td>\n",
              "      <td>1.087004</td>\n",
              "    </tr>\n",
              "    <tr>\n",
              "      <th>197</th>\n",
              "      <td>2.296534</td>\n",
              "      <td>4.809348</td>\n",
              "      <td>2.872795</td>\n",
              "    </tr>\n",
              "    <tr>\n",
              "      <th>198</th>\n",
              "      <td>2.296534</td>\n",
              "      <td>5.229212</td>\n",
              "      <td>0.698788</td>\n",
              "    </tr>\n",
              "    <tr>\n",
              "      <th>199</th>\n",
              "      <td>2.153001</td>\n",
              "      <td>5.229212</td>\n",
              "      <td>3.222190</td>\n",
              "    </tr>\n",
              "  </tbody>\n",
              "</table>\n",
              "<p>200 rows × 3 columns</p>\n",
              "</div>"
            ],
            "text/plain": [
              "     Age(Norm.)  Annual_Income(Norm.)  Spending_Score(Norm.)\n",
              "0      1.363567              0.572541               1.514041\n",
              "1      1.507100              0.572541               3.144546\n",
              "2      1.435334              0.610711               0.232929\n",
              "3      1.650634              0.610711               2.989260\n",
              "4      2.224767              0.648880               1.552862\n",
              "..          ...                   ...                    ...\n",
              "195    2.511834              4.580332               3.066903\n",
              "196    3.229501              4.809348               1.087004\n",
              "197    2.296534              4.809348               2.872795\n",
              "198    2.296534              5.229212               0.698788\n",
              "199    2.153001              5.229212               3.222190\n",
              "\n",
              "[200 rows x 3 columns]"
            ]
          },
          "metadata": {
            "tags": []
          },
          "execution_count": 29
        }
      ]
    },
    {
      "cell_type": "code",
      "metadata": {
        "colab_type": "code",
        "id": "DevbTgSOxjj6",
        "outputId": "34be6081-4ac9-4197-93be-88d6af1d0cc8",
        "colab": {
          "base_uri": "https://localhost:8080/",
          "height": 542
        }
      },
      "source": [
        "random.seed(1)\n",
        "\n",
        "kmeans = KMeans(n_clusters=5)\n",
        "kmeans.fit(df_norm)\n",
        "km_pred = kmeans.predict(df_norm)\n",
        "\n",
        "df_norm['Cluster'] = [str(i) for i in km_pred]\n",
        "\n",
        "wykres_kmean_after_norm = px.scatter_3d(df_norm, \n",
        "                                        x='Age(Norm.)', \n",
        "                                        y='Annual_Income(Norm.)', \n",
        "                                        z='Spending_Score(Norm.)', \n",
        "                                        color='Cluster')\n",
        "wykres_kmean_after_norm.show()"
      ],
      "execution_count": 30,
      "outputs": [
        {
          "output_type": "display_data",
          "data": {
            "text/html": [
              "<html>\n",
              "<head><meta charset=\"utf-8\" /></head>\n",
              "<body>\n",
              "    <div>\n",
              "            <script src=\"https://cdnjs.cloudflare.com/ajax/libs/mathjax/2.7.5/MathJax.js?config=TeX-AMS-MML_SVG\"></script><script type=\"text/javascript\">if (window.MathJax) {MathJax.Hub.Config({SVG: {font: \"STIX-Web\"}});}</script>\n",
              "                <script type=\"text/javascript\">window.PlotlyConfig = {MathJaxConfig: 'local'};</script>\n",
              "        <script src=\"https://cdn.plot.ly/plotly-latest.min.js\"></script>    \n",
              "            <div id=\"441a77a8-52e7-4e62-829f-bc4bb6530799\" class=\"plotly-graph-div\" style=\"height:525px; width:100%;\"></div>\n",
              "            <script type=\"text/javascript\">\n",
              "                \n",
              "                    window.PLOTLYENV=window.PLOTLYENV || {};\n",
              "                    \n",
              "                if (document.getElementById(\"441a77a8-52e7-4e62-829f-bc4bb6530799\")) {\n",
              "                    Plotly.newPlot(\n",
              "                        '441a77a8-52e7-4e62-829f-bc4bb6530799',\n",
              "                        [{\"hoverlabel\": {\"namelength\": 0}, \"hovertemplate\": \"Cluster=3<br>Age(Norm.)=%{x}<br>Annual_Income(Norm.)=%{y}<br>Spending_Score(Norm.)=%{z}\", \"legendgroup\": \"Cluster=3\", \"marker\": {\"color\": \"#636efa\", \"symbol\": \"circle\"}, \"mode\": \"markers\", \"name\": \"Cluster=3\", \"scene\": \"scene\", \"showlegend\": true, \"type\": \"scatter3d\", \"x\": [1.3635671038282438, 1.5071004831785852, 1.6506338625289267, 2.2247673799302925, 1.578867172853756, 1.6506338625289267, 2.1530006902551215, 2.5118341386309755, 1.7224005522040975, 1.578867172853756, 1.4353337935034145, 2.5118341386309755, 1.794167241879268, 2.2247673799302925, 2.081234000579951, 2.5118341386309755, 1.6506338625289267, 1.5071004831785852, 1.291800414153073, 1.5071004831785852, 2.1530006902551215, 1.4353337935034145, 1.7224005522040975, 2.2247673799302925, 1.7224005522040975, 1.9377006212296095, 2.081234000579951, 2.2247673799302925, 2.368300759280634, 2.2247673799302925, 1.9377006212296095, 1.3635671038282438, 1.291800414153073, 1.3635671038282438, 2.296534069605463, 1.8659339315544388, 1.6506338625289267, 2.7271342076564875, 1.5071004831785852, 1.578867172853756, 2.4400674489558045, 1.291800414153073, 2.296534069605463, 1.7224005522040975, 1.9377006212296095, 1.4353337935034145, 1.6506338625289267, 1.8659339315544388, 1.5071004831785852, 1.3635671038282438, 1.3635671038282438, 1.291800414153073, 1.3635671038282438, 1.9377006212296095], \"y\": [0.572541437576585, 0.572541437576585, 0.6107108667483574, 0.6488802959201297, 0.6488802959201297, 0.6870497250919021, 0.7252191542636744, 0.7252191542636744, 0.7633885834354468, 0.7633885834354468, 0.8015580126072192, 0.8778968709507637, 0.9160663001225361, 0.9542357292943084, 1.0687440168096254, 1.0687440168096254, 1.1069134459813978, 1.14508287515317, 1.2595911626684873, 1.2595911626684873, 1.2977605918402595, 1.4122688793555764, 1.450438308527349, 1.4886077376991211, 1.4886077376991211, 1.5267771668708936, 1.5267771668708936, 1.5267771668708936, 1.6031160252144383, 1.6412854543862105, 1.7557937419015275, 1.7557937419015275, 1.8321326002450722, 1.8321326002450722, 1.8321326002450722, 2.0611491752757063, 2.0611491752757063, 2.0611491752757063, 2.0611491752757063, 2.1756574627910235, 2.2138268919627957, 2.251996321134568, 2.29016575030634, 2.29016575030634, 2.29016575030634, 2.328335179478113, 2.366504608649885, 2.366504608649885, 2.366504608649885, 2.4046740378216573, 2.4428434669934296, 2.481012896165202, 2.481012896165202, 2.5573517545087467], \"z\": [1.5140408677497126, 3.1445464176340185, 2.989260174787894, 1.5528624284612438, 2.950438614076363, 3.6492267068839226, 2.795152371230239, 3.843334510441578, 2.989260174787894, 3.066903296210956, 2.562223006961052, 3.804512949730047, 2.83397393194177, 2.83397393194177, 3.1833679783455495, 2.3681152034033968, 3.377475781903205, 2.83397393194177, 3.5715835854608606, 3.1445464176340185, 2.83397393194177, 2.911617053364832, 3.5715835854608606, 2.3681152034033968, 2.523401446249521, 1.8246133534419613, 1.630505549884306, 1.630505549884306, 2.3292936426918653, 2.096364278422679, 1.9798995962880857, 2.13518583913421, 2.2904720819803344, 2.2904720819803344, 1.8246133534419613, 2.096364278422679, 2.0187211569996166, 2.13518583913421, 2.2128289605572724, 2.13518583913421, 2.3292936426918653, 1.5916839891727748, 1.630505549884306, 2.0187211569996166, 1.9410780355765547, 1.9022564748650235, 1.5916839891727748, 2.13518583913421, 1.630505549884306, 2.096364278422679, 1.7857917927304303, 1.8634349141534925, 1.9410780355765547, 2.174007399845741]}, {\"hoverlabel\": {\"namelength\": 0}, \"hovertemplate\": \"Cluster=0<br>Age(Norm.)=%{x}<br>Annual_Income(Norm.)=%{y}<br>Spending_Score(Norm.)=%{z}\", \"legendgroup\": \"Cluster=0\", \"marker\": {\"color\": \"#EF553B\", \"symbol\": \"circle\"}, \"mode\": \"markers\", \"name\": \"Cluster=0\", \"scene\": \"scene\", \"showlegend\": true, \"type\": \"scatter3d\", \"x\": [1.4353337935034145, 2.5118341386309755, 4.593068139210926, 4.8083682082364385, 4.162468001159902, 2.655367517981317, 2.5118341386309755, 3.7318678631088775, 2.5118341386309755, 3.3012677250578535, 3.875401242459219, 3.2295010353826825, 2.870667587006829, 4.306001380510243, 3.8036345527840485, 3.5165677940833655, 3.0142009663571705, 2.583600828306146, 3.444801104408195, 3.5165677940833655], \"y\": [0.6107108667483574, 0.6870497250919021, 0.7252191542636744, 0.7252191542636744, 0.7633885834354468, 0.7633885834354468, 0.8015580126072192, 0.8778968709507637, 0.9160663001225361, 0.9542357292943084, 1.0687440168096254, 1.0687440168096254, 1.1069134459813978, 1.14508287515317, 1.2595911626684873, 1.2595911626684873, 1.2977605918402595, 1.4122688793555764, 1.4886077376991211, 1.4886077376991211], \"z\": [0.23292936426918656, 0.23292936426918656, 0.11646468213459328, 0.5435018499614352, 0.5823234106729663, 0.5046802892499042, 1.3587546249035882, 1.1258252606344017, 1.3587546249035882, 0.19410780355765547, 0.5435018499614352, 1.2422899427689948, 1.2034683820574639, 0.15528624284612436, 0.15528624284612436, 0.5435018499614352, 0.6599665320960285, 1.0093605784998083, 1.3975761856151194, 1.0870036999228705]}, {\"hoverlabel\": {\"namelength\": 0}, \"hovertemplate\": \"Cluster=4<br>Age(Norm.)=%{x}<br>Annual_Income(Norm.)=%{y}<br>Spending_Score(Norm.)=%{z}\", \"legendgroup\": \"Cluster=4\", \"marker\": {\"color\": \"#00cc96\", \"symbol\": \"circle\"}, \"mode\": \"markers\", \"name\": \"Cluster=4\", \"scene\": \"scene\", \"showlegend\": true, \"type\": \"scatter3d\", \"x\": [4.6648348288860975, 3.588334483758536, 3.5165677940833655, 4.2342346908350725, 3.588334483758536, 3.373034414733024, 3.660101173433707, 4.95190158758678, 3.8036345527840485, 5.023668277261951, 4.8083682082364385, 3.875401242459219, 4.5213014495357555, 3.085967656032341, 4.880134897911609, 5.023668277261951, 3.373034414733024, 4.306001380510243, 4.306001380510243, 4.2342346908350725, 3.2295010353826825, 2.870667587006829, 3.5165677940833655, 4.0907013114847315, 4.8083682082364385, 3.3012677250578535, 3.444801104408195, 3.94716793213439, 3.588334483758536, 4.880134897911609, 3.444801104408195, 2.870667587006829, 3.373034414733024, 3.444801104408195, 3.5165677940833655, 4.8083682082364385, 3.5165677940833655, 4.736601518561268, 3.875401242459219, 4.880134897911609, 4.736601518561268, 4.6648348288860975, 4.5213014495357555, 3.5165677940833655, 3.660101173433707, 3.588334483758536, 4.018934621809561], \"y\": [1.450438308527349, 1.5267771668708936, 1.6031160252144383, 1.6412854543862105, 1.6412854543862105, 1.6412854543862105, 1.679454883557983, 1.679454883557983, 1.7557937419015275, 1.7557937419015275, 1.7939631710733, 1.7939631710733, 1.8321326002450722, 1.8321326002450722, 1.8321326002450722, 1.8703020294168446, 1.8703020294168446, 1.9084714585886169, 1.9084714585886169, 2.0611491752757063, 2.0611491752757063, 2.0611491752757063, 2.0611491752757063, 2.0611491752757063, 2.0611491752757063, 2.0611491752757063, 2.0611491752757063, 2.1756574627910235, 2.2138268919627957, 2.251996321134568, 2.29016575030634, 2.29016575030634, 2.29016575030634, 2.328335179478113, 2.366504608649885, 2.366504608649885, 2.366504608649885, 2.4046740378216573, 2.4046740378216573, 2.4046740378216573, 2.4046740378216573, 2.4046740378216573, 2.481012896165202, 2.481012896165202, 2.5573517545087467, 2.5573517545087467, 3.015384904570015], \"z\": [1.3587546249035882, 2.13518583913421, 2.0187211569996166, 2.3292936426918653, 1.7469702320188991, 1.5916839891727748, 1.9410780355765547, 1.7857917927304303, 1.7857917927304303, 2.174007399845741, 2.0187211569996166, 2.2904720819803344, 1.9798995962880857, 1.9410780355765547, 1.8634349141534925, 2.13518583913421, 1.630505549884306, 1.9022564748650235, 2.174007399845741, 1.8246133534419613, 2.057542717711148, 1.8634349141534925, 1.630505549884306, 1.9798995962880857, 1.5916839891727748, 1.7081486713073681, 1.7857917927304303, 2.2516505212688034, 1.7857917927304303, 2.13518583913421, 1.9022564748650235, 1.5528624284612438, 1.8246133534419613, 1.630505549884306, 1.8634349141534925, 2.2904720819803344, 2.174007399845741, 1.9410780355765547, 1.7857917927304303, 1.669327110595837, 1.8634349141534925, 2.0187211569996166, 1.669327110595837, 2.2904720819803344, 1.669327110595837, 2.2128289605572724, 1.3587546249035882]}, {\"hoverlabel\": {\"namelength\": 0}, \"hovertemplate\": \"Cluster=2<br>Age(Norm.)=%{x}<br>Annual_Income(Norm.)=%{y}<br>Spending_Score(Norm.)=%{z}\", \"legendgroup\": \"Cluster=2\", \"marker\": {\"color\": \"#ab63fa\", \"symbol\": \"circle\"}, \"mode\": \"markers\", \"name\": \"Cluster=2\", \"scene\": \"scene\", \"showlegend\": true, \"type\": \"scatter3d\", \"x\": [2.7271342076564875, 2.7271342076564875, 1.6506338625289267, 3.085967656032341, 4.2342346908350725, 3.373034414733024, 1.794167241879268, 1.4353337935034145, 3.157734345707512, 1.3635671038282438, 4.0907013114847315, 2.0094673109047805, 1.794167241879268, 3.444801104408195, 2.4400674489558045, 3.085967656032341, 3.157734345707512, 3.373034414733024, 2.655367517981317, 2.4400674489558045, 1.3635671038282438, 3.588334483758536, 3.0142009663571705, 2.583600828306146, 2.870667587006829, 2.583600828306146, 3.7318678631088775, 4.162468001159902, 4.2342346908350725, 2.655367517981317, 3.3012677250578535, 2.9424342766819995, 3.875401242459219, 2.9424342766819995, 2.4400674489558045, 2.368300759280634, 3.373034414733024, 3.2295010353826825, 2.296534069605463], \"y\": [2.4428434669934296, 2.5573517545087467, 2.671860042024064, 2.710029471195836, 2.710029471195836, 2.710029471195836, 2.7481989003676084, 2.7863683295393806, 2.7863683295393806, 2.824537758711153, 2.8627071878829256, 2.900876617054698, 2.93904604622647, 2.93904604622647, 2.9772154753982423, 2.9772154753982423, 2.9772154753982423, 2.9772154753982423, 2.9772154753982423, 2.9772154753982423, 3.0917237629135594, 3.244401479600649, 3.282570908772421, 3.3207403379441933, 3.3207403379441933, 3.3207403379441933, 3.358909767115966, 3.358909767115966, 3.5497569129748276, 3.702434629661917, 3.7406040588336893, 3.7787734880054615, 3.855112346349006, 3.931451204692551, 3.931451204692551, 4.313145496410274, 4.58033150061268, 4.809348075643315, 5.229211796532811], \"z\": [1.630505549884306, 1.5528624284612438, 1.1258252606344017, 1.3587546249035882, 0.42703716782684203, 0.34939404640377986, 1.319933064192057, 0.19410780355765547, 0.2717509249807176, 0.38821560711531095, 0.19410780355765547, 1.5528624284612438, 0.4658587285383731, 1.3975761856151194, 0.8540743356536841, 0.6599665320960285, 0.7764312142306219, 0.6211449713844974, 0.03882156071153109, 0.03882156071153109, 0.19410780355765547, 1.0093605784998083, 0.7764312142306219, 1.0481821392113395, 0.5046802892499042, 0.38821560711531095, 0.5046802892499042, 0.5823234106729663, 0.5435018499614352, 1.2422899427689948, 0.5823234106729663, 1.5140408677497126, 0.9317174570767462, 0.6599665320960285, 0.8928958963652152, 0.3105724856922487, 0.6211449713844974, 1.0870036999228705, 0.6987880928075597]}, {\"hoverlabel\": {\"namelength\": 0}, \"hovertemplate\": \"Cluster=1<br>Age(Norm.)=%{x}<br>Annual_Income(Norm.)=%{y}<br>Spending_Score(Norm.)=%{z}\", \"legendgroup\": \"Cluster=1\", \"marker\": {\"color\": \"#FFA15A\", \"symbol\": \"circle\"}, \"mode\": \"markers\", \"name\": \"Cluster=1\", \"scene\": \"scene\", \"showlegend\": true, \"type\": \"scatter3d\", \"x\": [2.870667587006829, 2.798900897331658, 2.2247673799302925, 2.870667587006829, 2.7271342076564875, 2.798900897331658, 2.2247673799302925, 2.081234000579951, 2.296534069605463, 2.5118341386309755, 2.296534069605463, 2.296534069605463, 2.0094673109047805, 2.296534069605463, 2.4400674489558045, 2.798900897331658, 2.7271342076564875, 1.9377006212296095, 2.1530006902551215, 2.1530006902551215, 2.081234000579951, 2.2247673799302925, 2.583600828306146, 2.368300759280634, 2.296534069605463, 2.0094673109047805, 2.583600828306146, 2.1530006902551215, 1.9377006212296095, 2.5118341386309755, 2.296534069605463, 2.081234000579951, 2.1530006902551215, 2.0094673109047805, 2.583600828306146, 2.296534069605463, 2.7271342076564875, 2.5118341386309755, 2.296534069605463, 2.1530006902551215], \"y\": [2.6336906128522912, 2.6336906128522912, 2.671860042024064, 2.710029471195836, 2.710029471195836, 2.710029471195836, 2.7481989003676084, 2.7863683295393806, 2.7863683295393806, 2.824537758711153, 2.8627071878829256, 2.900876617054698, 2.93904604622647, 2.93904604622647, 2.9772154753982423, 2.9772154753982423, 2.9772154753982423, 2.9772154753982423, 2.9772154753982423, 2.9772154753982423, 3.015384904570015, 3.0917237629135594, 3.244401479600649, 3.282570908772421, 3.3207403379441933, 3.3207403379441933, 3.3207403379441933, 3.358909767115966, 3.358909767115966, 3.5497569129748276, 3.702434629661917, 3.7406040588336893, 3.7787734880054615, 3.855112346349006, 3.931451204692551, 3.931451204692551, 4.313145496410274, 4.58033150061268, 4.809348075643315, 5.229211796532811], \"z\": [2.2516505212688034, 3.532762024749329, 2.989260174787894, 3.6880482675954536, 2.911617053364832, 2.911617053364832, 2.7563308105187074, 3.4162973426147363, 2.83397393194177, 2.795152371230239, 3.6104051461723916, 3.377475781903205, 3.765691389018516, 2.872795492653301, 3.4939404640377982, 3.4162973426147363, 2.950438614076363, 3.4551189033262673, 3.028081735499425, 2.83397393194177, 3.2221895390570805, 3.6104051461723916, 2.911617053364832, 3.6880482675954536, 2.4457583248264587, 2.911617053364832, 3.5715835854608606, 3.338654221191674, 2.6786876890956455, 3.4939404640377982, 3.338654221191674, 3.4162973426147363, 3.765691389018516, 2.639866128384114, 3.299832660480143, 2.6786876890956455, 3.532762024749329, 3.066903296210956, 2.872795492653301, 3.2221895390570805]}],\n",
              "                        {\"legend\": {\"tracegroupgap\": 0}, \"margin\": {\"t\": 60}, \"scene\": {\"domain\": {\"x\": [0.0, 1.0], \"y\": [0.0, 1.0]}, \"xaxis\": {\"title\": {\"text\": \"Age(Norm.)\"}}, \"yaxis\": {\"title\": {\"text\": \"Annual_Income(Norm.)\"}}, \"zaxis\": {\"title\": {\"text\": \"Spending_Score(Norm.)\"}}}, \"template\": {\"data\": {\"bar\": [{\"error_x\": {\"color\": \"#2a3f5f\"}, \"error_y\": {\"color\": \"#2a3f5f\"}, \"marker\": {\"line\": {\"color\": \"#E5ECF6\", \"width\": 0.5}}, \"type\": \"bar\"}], \"barpolar\": [{\"marker\": {\"line\": {\"color\": \"#E5ECF6\", \"width\": 0.5}}, \"type\": \"barpolar\"}], \"carpet\": [{\"aaxis\": {\"endlinecolor\": \"#2a3f5f\", \"gridcolor\": \"white\", \"linecolor\": \"white\", \"minorgridcolor\": \"white\", \"startlinecolor\": \"#2a3f5f\"}, \"baxis\": {\"endlinecolor\": \"#2a3f5f\", \"gridcolor\": \"white\", \"linecolor\": \"white\", \"minorgridcolor\": \"white\", \"startlinecolor\": \"#2a3f5f\"}, \"type\": \"carpet\"}], \"choropleth\": [{\"colorbar\": {\"outlinewidth\": 0, \"ticks\": \"\"}, \"type\": \"choropleth\"}], \"contour\": [{\"colorbar\": {\"outlinewidth\": 0, \"ticks\": \"\"}, \"colorscale\": [[0.0, \"#0d0887\"], [0.1111111111111111, \"#46039f\"], [0.2222222222222222, \"#7201a8\"], [0.3333333333333333, \"#9c179e\"], [0.4444444444444444, \"#bd3786\"], [0.5555555555555556, \"#d8576b\"], [0.6666666666666666, \"#ed7953\"], [0.7777777777777778, \"#fb9f3a\"], [0.8888888888888888, \"#fdca26\"], [1.0, \"#f0f921\"]], \"type\": \"contour\"}], \"contourcarpet\": [{\"colorbar\": {\"outlinewidth\": 0, \"ticks\": \"\"}, \"type\": \"contourcarpet\"}], \"heatmap\": [{\"colorbar\": {\"outlinewidth\": 0, \"ticks\": \"\"}, \"colorscale\": [[0.0, \"#0d0887\"], [0.1111111111111111, \"#46039f\"], [0.2222222222222222, \"#7201a8\"], [0.3333333333333333, \"#9c179e\"], [0.4444444444444444, \"#bd3786\"], [0.5555555555555556, \"#d8576b\"], [0.6666666666666666, \"#ed7953\"], [0.7777777777777778, \"#fb9f3a\"], [0.8888888888888888, \"#fdca26\"], [1.0, \"#f0f921\"]], \"type\": \"heatmap\"}], \"heatmapgl\": [{\"colorbar\": {\"outlinewidth\": 0, \"ticks\": \"\"}, \"colorscale\": [[0.0, \"#0d0887\"], [0.1111111111111111, \"#46039f\"], [0.2222222222222222, \"#7201a8\"], [0.3333333333333333, \"#9c179e\"], [0.4444444444444444, \"#bd3786\"], [0.5555555555555556, \"#d8576b\"], [0.6666666666666666, \"#ed7953\"], [0.7777777777777778, \"#fb9f3a\"], [0.8888888888888888, \"#fdca26\"], [1.0, \"#f0f921\"]], \"type\": \"heatmapgl\"}], \"histogram\": [{\"marker\": {\"colorbar\": {\"outlinewidth\": 0, \"ticks\": \"\"}}, \"type\": \"histogram\"}], \"histogram2d\": [{\"colorbar\": {\"outlinewidth\": 0, \"ticks\": \"\"}, \"colorscale\": [[0.0, \"#0d0887\"], [0.1111111111111111, \"#46039f\"], [0.2222222222222222, \"#7201a8\"], [0.3333333333333333, \"#9c179e\"], [0.4444444444444444, \"#bd3786\"], [0.5555555555555556, \"#d8576b\"], [0.6666666666666666, \"#ed7953\"], [0.7777777777777778, \"#fb9f3a\"], [0.8888888888888888, \"#fdca26\"], [1.0, \"#f0f921\"]], \"type\": \"histogram2d\"}], \"histogram2dcontour\": [{\"colorbar\": {\"outlinewidth\": 0, \"ticks\": \"\"}, \"colorscale\": [[0.0, \"#0d0887\"], [0.1111111111111111, \"#46039f\"], [0.2222222222222222, \"#7201a8\"], [0.3333333333333333, \"#9c179e\"], [0.4444444444444444, \"#bd3786\"], [0.5555555555555556, \"#d8576b\"], [0.6666666666666666, \"#ed7953\"], [0.7777777777777778, \"#fb9f3a\"], [0.8888888888888888, \"#fdca26\"], [1.0, \"#f0f921\"]], \"type\": \"histogram2dcontour\"}], \"mesh3d\": [{\"colorbar\": {\"outlinewidth\": 0, \"ticks\": \"\"}, \"type\": \"mesh3d\"}], \"parcoords\": [{\"line\": {\"colorbar\": {\"outlinewidth\": 0, \"ticks\": \"\"}}, \"type\": \"parcoords\"}], \"pie\": [{\"automargin\": true, \"type\": \"pie\"}], \"scatter\": [{\"marker\": {\"colorbar\": {\"outlinewidth\": 0, \"ticks\": \"\"}}, \"type\": \"scatter\"}], \"scatter3d\": [{\"line\": {\"colorbar\": {\"outlinewidth\": 0, \"ticks\": \"\"}}, \"marker\": {\"colorbar\": {\"outlinewidth\": 0, \"ticks\": \"\"}}, \"type\": \"scatter3d\"}], \"scattercarpet\": [{\"marker\": {\"colorbar\": {\"outlinewidth\": 0, \"ticks\": \"\"}}, \"type\": \"scattercarpet\"}], \"scattergeo\": [{\"marker\": {\"colorbar\": {\"outlinewidth\": 0, \"ticks\": \"\"}}, \"type\": \"scattergeo\"}], \"scattergl\": [{\"marker\": {\"colorbar\": {\"outlinewidth\": 0, \"ticks\": \"\"}}, \"type\": \"scattergl\"}], \"scattermapbox\": [{\"marker\": {\"colorbar\": {\"outlinewidth\": 0, \"ticks\": \"\"}}, \"type\": \"scattermapbox\"}], \"scatterpolar\": [{\"marker\": {\"colorbar\": {\"outlinewidth\": 0, \"ticks\": \"\"}}, \"type\": \"scatterpolar\"}], \"scatterpolargl\": [{\"marker\": {\"colorbar\": {\"outlinewidth\": 0, \"ticks\": \"\"}}, \"type\": \"scatterpolargl\"}], \"scatterternary\": [{\"marker\": {\"colorbar\": {\"outlinewidth\": 0, \"ticks\": \"\"}}, \"type\": \"scatterternary\"}], \"surface\": [{\"colorbar\": {\"outlinewidth\": 0, \"ticks\": \"\"}, \"colorscale\": [[0.0, \"#0d0887\"], [0.1111111111111111, \"#46039f\"], [0.2222222222222222, \"#7201a8\"], [0.3333333333333333, \"#9c179e\"], [0.4444444444444444, \"#bd3786\"], [0.5555555555555556, \"#d8576b\"], [0.6666666666666666, \"#ed7953\"], [0.7777777777777778, \"#fb9f3a\"], [0.8888888888888888, \"#fdca26\"], [1.0, \"#f0f921\"]], \"type\": \"surface\"}], \"table\": [{\"cells\": {\"fill\": {\"color\": \"#EBF0F8\"}, \"line\": {\"color\": \"white\"}}, \"header\": {\"fill\": {\"color\": \"#C8D4E3\"}, \"line\": {\"color\": \"white\"}}, \"type\": \"table\"}]}, \"layout\": {\"annotationdefaults\": {\"arrowcolor\": \"#2a3f5f\", \"arrowhead\": 0, \"arrowwidth\": 1}, \"coloraxis\": {\"colorbar\": {\"outlinewidth\": 0, \"ticks\": \"\"}}, \"colorscale\": {\"diverging\": [[0, \"#8e0152\"], [0.1, \"#c51b7d\"], [0.2, \"#de77ae\"], [0.3, \"#f1b6da\"], [0.4, \"#fde0ef\"], [0.5, \"#f7f7f7\"], [0.6, \"#e6f5d0\"], [0.7, \"#b8e186\"], [0.8, \"#7fbc41\"], [0.9, \"#4d9221\"], [1, \"#276419\"]], \"sequential\": [[0.0, \"#0d0887\"], [0.1111111111111111, \"#46039f\"], [0.2222222222222222, \"#7201a8\"], [0.3333333333333333, \"#9c179e\"], [0.4444444444444444, \"#bd3786\"], [0.5555555555555556, \"#d8576b\"], [0.6666666666666666, \"#ed7953\"], [0.7777777777777778, \"#fb9f3a\"], [0.8888888888888888, \"#fdca26\"], [1.0, \"#f0f921\"]], \"sequentialminus\": [[0.0, \"#0d0887\"], [0.1111111111111111, \"#46039f\"], [0.2222222222222222, \"#7201a8\"], [0.3333333333333333, \"#9c179e\"], [0.4444444444444444, \"#bd3786\"], [0.5555555555555556, \"#d8576b\"], [0.6666666666666666, \"#ed7953\"], [0.7777777777777778, \"#fb9f3a\"], [0.8888888888888888, \"#fdca26\"], [1.0, \"#f0f921\"]]}, \"colorway\": [\"#636efa\", \"#EF553B\", \"#00cc96\", \"#ab63fa\", \"#FFA15A\", \"#19d3f3\", \"#FF6692\", \"#B6E880\", \"#FF97FF\", \"#FECB52\"], \"font\": {\"color\": \"#2a3f5f\"}, \"geo\": {\"bgcolor\": \"white\", \"lakecolor\": \"white\", \"landcolor\": \"#E5ECF6\", \"showlakes\": true, \"showland\": true, \"subunitcolor\": \"white\"}, \"hoverlabel\": {\"align\": \"left\"}, \"hovermode\": \"closest\", \"mapbox\": {\"style\": \"light\"}, \"paper_bgcolor\": \"white\", \"plot_bgcolor\": \"#E5ECF6\", \"polar\": {\"angularaxis\": {\"gridcolor\": \"white\", \"linecolor\": \"white\", \"ticks\": \"\"}, \"bgcolor\": \"#E5ECF6\", \"radialaxis\": {\"gridcolor\": \"white\", \"linecolor\": \"white\", \"ticks\": \"\"}}, \"scene\": {\"xaxis\": {\"backgroundcolor\": \"#E5ECF6\", \"gridcolor\": \"white\", \"gridwidth\": 2, \"linecolor\": \"white\", \"showbackground\": true, \"ticks\": \"\", \"zerolinecolor\": \"white\"}, \"yaxis\": {\"backgroundcolor\": \"#E5ECF6\", \"gridcolor\": \"white\", \"gridwidth\": 2, \"linecolor\": \"white\", \"showbackground\": true, \"ticks\": \"\", \"zerolinecolor\": \"white\"}, \"zaxis\": {\"backgroundcolor\": \"#E5ECF6\", \"gridcolor\": \"white\", \"gridwidth\": 2, \"linecolor\": \"white\", \"showbackground\": true, \"ticks\": \"\", \"zerolinecolor\": \"white\"}}, \"shapedefaults\": {\"line\": {\"color\": \"#2a3f5f\"}}, \"ternary\": {\"aaxis\": {\"gridcolor\": \"white\", \"linecolor\": \"white\", \"ticks\": \"\"}, \"baxis\": {\"gridcolor\": \"white\", \"linecolor\": \"white\", \"ticks\": \"\"}, \"bgcolor\": \"#E5ECF6\", \"caxis\": {\"gridcolor\": \"white\", \"linecolor\": \"white\", \"ticks\": \"\"}}, \"title\": {\"x\": 0.05}, \"xaxis\": {\"automargin\": true, \"gridcolor\": \"white\", \"linecolor\": \"white\", \"ticks\": \"\", \"title\": {\"standoff\": 15}, \"zerolinecolor\": \"white\", \"zerolinewidth\": 2}, \"yaxis\": {\"automargin\": true, \"gridcolor\": \"white\", \"linecolor\": \"white\", \"ticks\": \"\", \"title\": {\"standoff\": 15}, \"zerolinecolor\": \"white\", \"zerolinewidth\": 2}}}},\n",
              "                        {\"responsive\": true}\n",
              "                    ).then(function(){\n",
              "                            \n",
              "var gd = document.getElementById('441a77a8-52e7-4e62-829f-bc4bb6530799');\n",
              "var x = new MutationObserver(function (mutations, observer) {{\n",
              "        var display = window.getComputedStyle(gd).display;\n",
              "        if (!display || display === 'none') {{\n",
              "            console.log([gd, 'removed!']);\n",
              "            Plotly.purge(gd);\n",
              "            observer.disconnect();\n",
              "        }}\n",
              "}});\n",
              "\n",
              "// Listen for the removal of the full notebook cells\n",
              "var notebookContainer = gd.closest('#notebook-container');\n",
              "if (notebookContainer) {{\n",
              "    x.observe(notebookContainer, {childList: true});\n",
              "}}\n",
              "\n",
              "// Listen for the clearing of the current output cell\n",
              "var outputEl = gd.closest('.output');\n",
              "if (outputEl) {{\n",
              "    x.observe(outputEl, {childList: true});\n",
              "}}\n",
              "\n",
              "                        })\n",
              "                };\n",
              "                \n",
              "            </script>\n",
              "        </div>\n",
              "</body>\n",
              "</html>"
            ]
          },
          "metadata": {
            "tags": []
          }
        }
      ]
    },
    {
      "cell_type": "markdown",
      "metadata": {
        "colab_type": "text",
        "id": "Pco-Y1SOKzSg"
      },
      "source": [
        "Otrzymany wykres pokazuje podobny rozkład, jednak mniej jednoznaczny w ocenie wzrokowej.\n",
        "\n",
        "#### **Porównanie wyników przed i po normalizacji:**"
      ]
    },
    {
      "cell_type": "code",
      "metadata": {
        "colab_type": "code",
        "id": "WpJRiQi3mnoW",
        "colab": {}
      },
      "source": [
        "# kolory i numery klastrów na wykresie zmieniają się przy każdej iteracji!\n",
        "# wyniki z bieżącej analizy zostały eksportowane do pliku df_norm.csv\n",
        "\n",
        "#new_label2 = []\n",
        "\n",
        "#for i in df_val['po:']:\n",
        "#  if i == \"0\":\n",
        "#    new_label2.append(\"4\")\n",
        "#  elif i == \"1\": #\n",
        "#    new_label2.append(\"3\") #\n",
        "#  elif i == \"2\":\n",
        "#    new_label2.append(\"1\") #\n",
        "#  elif i == \"3\":\n",
        "#    new_label2.append(\"2\")\n",
        "#  elif i == \"4\":\n",
        "#    new_label2.append(\"0\")\n",
        "\n",
        "#df_norm.drop(columns=['Cluster'])\n",
        "#df_norm['Cluster'] = new_label2\n",
        "#df_norm.head()\n",
        "\n",
        "#print('Procent odpowiadających sobie etykiet po normalizacji danych:',\n",
        "#      (sum(df_val['przed:']==df_val['new_label'])/200)*100,'%')\n",
        "\n",
        "## eksport wyników w postaci pliku .csv do dysku sieciowego w usłudze Google Drive:\n",
        "#from google.colab import drive\n",
        "#drive.mount('/content/drive')\n",
        "#df_norm.to_csv('drive/My Drive/wyniki_analizy/df_norm.csv')"
      ],
      "execution_count": 0,
      "outputs": []
    },
    {
      "cell_type": "code",
      "metadata": {
        "colab_type": "code",
        "id": "RB38s8YLqHy-",
        "colab": {
          "base_uri": "https://localhost:8080/",
          "height": 34
        },
        "outputId": "a21b2d34-922e-430e-9f85-0da33adf9143"
      },
      "source": [
        "df_norm = pd.read_csv(\"df_norm.csv\")\n",
        "print('Procent odpowiadających sobie etykiet po normalizacji danych:',(sum(df_copy['Cluster']==df_norm['Cluster'])/200)*100,'%')"
      ],
      "execution_count": 31,
      "outputs": [
        {
          "output_type": "stream",
          "text": [
            "Procent odpowiadających sobie etykiet po normalizacji danych: 81.5 %\n"
          ],
          "name": "stdout"
        }
      ]
    },
    {
      "cell_type": "markdown",
      "metadata": {
        "colab_type": "text",
        "id": "XkcHb5BkHjBX"
      },
      "source": [
        "#### **Krok 6: Tworzenie losowego zbioru danych**"
      ]
    },
    {
      "cell_type": "code",
      "metadata": {
        "colab_type": "code",
        "id": "lu3rIPXmLKhU",
        "outputId": "9bc76129-d041-4603-ff5a-45700759944f",
        "colab": {
          "base_uri": "https://localhost:8080/",
          "height": 297
        }
      },
      "source": [
        "dataset.describe()"
      ],
      "execution_count": 32,
      "outputs": [
        {
          "output_type": "execute_result",
          "data": {
            "text/html": [
              "<div>\n",
              "<style scoped>\n",
              "    .dataframe tbody tr th:only-of-type {\n",
              "        vertical-align: middle;\n",
              "    }\n",
              "\n",
              "    .dataframe tbody tr th {\n",
              "        vertical-align: top;\n",
              "    }\n",
              "\n",
              "    .dataframe thead th {\n",
              "        text-align: right;\n",
              "    }\n",
              "</style>\n",
              "<table border=\"1\" class=\"dataframe\">\n",
              "  <thead>\n",
              "    <tr style=\"text-align: right;\">\n",
              "      <th></th>\n",
              "      <th>CustomerID</th>\n",
              "      <th>Age</th>\n",
              "      <th>Annual Income (k$)</th>\n",
              "      <th>Spending Score (1-100)</th>\n",
              "    </tr>\n",
              "  </thead>\n",
              "  <tbody>\n",
              "    <tr>\n",
              "      <th>count</th>\n",
              "      <td>200.000000</td>\n",
              "      <td>200.000000</td>\n",
              "      <td>200.000000</td>\n",
              "      <td>200.000000</td>\n",
              "    </tr>\n",
              "    <tr>\n",
              "      <th>mean</th>\n",
              "      <td>100.500000</td>\n",
              "      <td>38.850000</td>\n",
              "      <td>60.560000</td>\n",
              "      <td>50.200000</td>\n",
              "    </tr>\n",
              "    <tr>\n",
              "      <th>std</th>\n",
              "      <td>57.879185</td>\n",
              "      <td>13.969007</td>\n",
              "      <td>26.264721</td>\n",
              "      <td>25.823522</td>\n",
              "    </tr>\n",
              "    <tr>\n",
              "      <th>min</th>\n",
              "      <td>1.000000</td>\n",
              "      <td>18.000000</td>\n",
              "      <td>15.000000</td>\n",
              "      <td>1.000000</td>\n",
              "    </tr>\n",
              "    <tr>\n",
              "      <th>25%</th>\n",
              "      <td>50.750000</td>\n",
              "      <td>28.750000</td>\n",
              "      <td>41.500000</td>\n",
              "      <td>34.750000</td>\n",
              "    </tr>\n",
              "    <tr>\n",
              "      <th>50%</th>\n",
              "      <td>100.500000</td>\n",
              "      <td>36.000000</td>\n",
              "      <td>61.500000</td>\n",
              "      <td>50.000000</td>\n",
              "    </tr>\n",
              "    <tr>\n",
              "      <th>75%</th>\n",
              "      <td>150.250000</td>\n",
              "      <td>49.000000</td>\n",
              "      <td>78.000000</td>\n",
              "      <td>73.000000</td>\n",
              "    </tr>\n",
              "    <tr>\n",
              "      <th>max</th>\n",
              "      <td>200.000000</td>\n",
              "      <td>70.000000</td>\n",
              "      <td>137.000000</td>\n",
              "      <td>99.000000</td>\n",
              "    </tr>\n",
              "  </tbody>\n",
              "</table>\n",
              "</div>"
            ],
            "text/plain": [
              "       CustomerID         Age  Annual Income (k$)  Spending Score (1-100)\n",
              "count  200.000000  200.000000          200.000000              200.000000\n",
              "mean   100.500000   38.850000           60.560000               50.200000\n",
              "std     57.879185   13.969007           26.264721               25.823522\n",
              "min      1.000000   18.000000           15.000000                1.000000\n",
              "25%     50.750000   28.750000           41.500000               34.750000\n",
              "50%    100.500000   36.000000           61.500000               50.000000\n",
              "75%    150.250000   49.000000           78.000000               73.000000\n",
              "max    200.000000   70.000000          137.000000               99.000000"
            ]
          },
          "metadata": {
            "tags": []
          },
          "execution_count": 32
        }
      ]
    },
    {
      "cell_type": "code",
      "metadata": {
        "colab_type": "code",
        "id": "hR0Dlm00IeX8",
        "outputId": "935de70a-a6f2-4656-f0a1-6917c806a751",
        "colab": {
          "base_uri": "https://localhost:8080/",
          "height": 297
        }
      },
      "source": [
        "my_mean = 38.85\n",
        "my_variance = (13.97)**2\n",
        "random_numbers = [gauss(my_mean, math.sqrt(my_variance)) for i in range(300)]\n",
        "random_numbers = [int(i) for i in random_numbers if (i >= 18)]\n",
        "age_dummy = pd.Series(random_numbers)\n",
        "age_dummy = age_dummy.dropna()\n",
        "\n",
        "my_mean = 60.56\n",
        "my_variance = (26.26)**2\n",
        "random_numbers = [gauss(my_mean, math.sqrt(my_variance)) for i in range(300)]\n",
        "random_numbers = [int(i) for i in random_numbers if (i >= 15)]\n",
        "income_dummy = pd.Series(random_numbers)\n",
        "income_dummy = income_dummy.dropna()\n",
        "\n",
        "my_mean = 50.2\n",
        "my_variance = (25.82)**2\n",
        "random_numbers = [gauss(my_mean, math.sqrt(my_variance)) for i in range(300)]\n",
        "random_numbers = [int(i) for i in random_numbers if (i >= 1) and (i <= 100)]\n",
        "spend_score_dummy = pd.Series(random_numbers)\n",
        "spend_score_dummy = spend_score_dummy.dropna()\n",
        "\n",
        "age_dummy = age_dummy[0:200]\n",
        "income_dummy =income_dummy[0:200]\n",
        "spend_score_dummy = spend_score_dummy[0:200]\n",
        "dummy_df = pd.DataFrame([age_dummy, income_dummy, spend_score_dummy])\n",
        "dummy_df = dummy_df.transpose()\n",
        "dummy_df.columns = ['Age','Annual Income (k$)','Spending Score (1-100)']\n",
        "dummy_df.describe()"
      ],
      "execution_count": 33,
      "outputs": [
        {
          "output_type": "execute_result",
          "data": {
            "text/html": [
              "<div>\n",
              "<style scoped>\n",
              "    .dataframe tbody tr th:only-of-type {\n",
              "        vertical-align: middle;\n",
              "    }\n",
              "\n",
              "    .dataframe tbody tr th {\n",
              "        vertical-align: top;\n",
              "    }\n",
              "\n",
              "    .dataframe thead th {\n",
              "        text-align: right;\n",
              "    }\n",
              "</style>\n",
              "<table border=\"1\" class=\"dataframe\">\n",
              "  <thead>\n",
              "    <tr style=\"text-align: right;\">\n",
              "      <th></th>\n",
              "      <th>Age</th>\n",
              "      <th>Annual Income (k$)</th>\n",
              "      <th>Spending Score (1-100)</th>\n",
              "    </tr>\n",
              "  </thead>\n",
              "  <tbody>\n",
              "    <tr>\n",
              "      <th>count</th>\n",
              "      <td>200.0000</td>\n",
              "      <td>200.000000</td>\n",
              "      <td>200.000000</td>\n",
              "    </tr>\n",
              "    <tr>\n",
              "      <th>mean</th>\n",
              "      <td>40.6300</td>\n",
              "      <td>62.740000</td>\n",
              "      <td>48.915000</td>\n",
              "    </tr>\n",
              "    <tr>\n",
              "      <th>std</th>\n",
              "      <td>12.2779</td>\n",
              "      <td>22.431636</td>\n",
              "      <td>23.397113</td>\n",
              "    </tr>\n",
              "    <tr>\n",
              "      <th>min</th>\n",
              "      <td>18.0000</td>\n",
              "      <td>16.000000</td>\n",
              "      <td>1.000000</td>\n",
              "    </tr>\n",
              "    <tr>\n",
              "      <th>25%</th>\n",
              "      <td>32.0000</td>\n",
              "      <td>45.000000</td>\n",
              "      <td>34.000000</td>\n",
              "    </tr>\n",
              "    <tr>\n",
              "      <th>50%</th>\n",
              "      <td>40.0000</td>\n",
              "      <td>61.500000</td>\n",
              "      <td>48.500000</td>\n",
              "    </tr>\n",
              "    <tr>\n",
              "      <th>75%</th>\n",
              "      <td>48.2500</td>\n",
              "      <td>78.250000</td>\n",
              "      <td>68.250000</td>\n",
              "    </tr>\n",
              "    <tr>\n",
              "      <th>max</th>\n",
              "      <td>76.0000</td>\n",
              "      <td>132.000000</td>\n",
              "      <td>97.000000</td>\n",
              "    </tr>\n",
              "  </tbody>\n",
              "</table>\n",
              "</div>"
            ],
            "text/plain": [
              "            Age  Annual Income (k$)  Spending Score (1-100)\n",
              "count  200.0000          200.000000              200.000000\n",
              "mean    40.6300           62.740000               48.915000\n",
              "std     12.2779           22.431636               23.397113\n",
              "min     18.0000           16.000000                1.000000\n",
              "25%     32.0000           45.000000               34.000000\n",
              "50%     40.0000           61.500000               48.500000\n",
              "75%     48.2500           78.250000               68.250000\n",
              "max     76.0000          132.000000               97.000000"
            ]
          },
          "metadata": {
            "tags": []
          },
          "execution_count": 33
        }
      ]
    },
    {
      "cell_type": "markdown",
      "metadata": {
        "colab_type": "text",
        "id": "BI0oMrblOY-X"
      },
      "source": [
        "#### Przykład analizy metodą klastrowania K-mean losowo wygenerowanego zbioru danych:"
      ]
    },
    {
      "cell_type": "code",
      "metadata": {
        "colab_type": "code",
        "id": "_BFOhLjNUtMm",
        "outputId": "741394ff-6339-4c5b-85fa-2c1f488961b7",
        "colab": {
          "base_uri": "https://localhost:8080/",
          "height": 542
        }
      },
      "source": [
        "random.seed(1)\n",
        "kmeans.fit(dummy_df)\n",
        "km_pred_dummy = kmeans.predict(dummy_df)\n",
        "\n",
        "dummy_df_wykres = copy.copy(dummy_df)\n",
        "\n",
        "dummy_df_wykres['Cluster'] = [str(i) for i in km_pred_dummy]\n",
        "\n",
        "wykres_dummy = px.scatter_3d(dummy_df_wykres,\n",
        "                             x='Age',\n",
        "                             y='Annual Income (k$)', \n",
        "                             z='Spending Score (1-100)', \n",
        "                             color='Cluster')\n",
        "wykres_dummy.show()"
      ],
      "execution_count": 34,
      "outputs": [
        {
          "output_type": "display_data",
          "data": {
            "text/html": [
              "<html>\n",
              "<head><meta charset=\"utf-8\" /></head>\n",
              "<body>\n",
              "    <div>\n",
              "            <script src=\"https://cdnjs.cloudflare.com/ajax/libs/mathjax/2.7.5/MathJax.js?config=TeX-AMS-MML_SVG\"></script><script type=\"text/javascript\">if (window.MathJax) {MathJax.Hub.Config({SVG: {font: \"STIX-Web\"}});}</script>\n",
              "                <script type=\"text/javascript\">window.PlotlyConfig = {MathJaxConfig: 'local'};</script>\n",
              "        <script src=\"https://cdn.plot.ly/plotly-latest.min.js\"></script>    \n",
              "            <div id=\"8bc9897a-e921-4d3d-875f-8b540906b2ef\" class=\"plotly-graph-div\" style=\"height:525px; width:100%;\"></div>\n",
              "            <script type=\"text/javascript\">\n",
              "                \n",
              "                    window.PLOTLYENV=window.PLOTLYENV || {};\n",
              "                    \n",
              "                if (document.getElementById(\"8bc9897a-e921-4d3d-875f-8b540906b2ef\")) {\n",
              "                    Plotly.newPlot(\n",
              "                        '8bc9897a-e921-4d3d-875f-8b540906b2ef',\n",
              "                        [{\"hoverlabel\": {\"namelength\": 0}, \"hovertemplate\": \"Cluster=4<br>Age=%{x}<br>Annual Income (k$)=%{y}<br>Spending Score (1-100)=%{z}\", \"legendgroup\": \"Cluster=4\", \"marker\": {\"color\": \"#636efa\", \"symbol\": \"circle\"}, \"mode\": \"markers\", \"name\": \"Cluster=4\", \"scene\": \"scene\", \"showlegend\": true, \"type\": \"scatter3d\", \"x\": [56, 18, 40, 46, 38, 43, 72, 36, 48, 48, 23, 32, 20, 38, 49, 41, 47, 49, 57, 38, 35, 25, 36, 40, 38, 44, 44, 33, 48, 22, 38, 34, 55, 19, 35, 43, 48, 53, 52, 43, 22, 39, 23, 45, 76, 43, 33, 34, 25, 36, 33], \"y\": [53, 29, 51, 52, 39, 46, 43, 29, 57, 62, 55, 37, 23, 54, 45, 46, 22, 29, 44, 51, 37, 31, 60, 30, 55, 43, 21, 41, 31, 28, 54, 56, 32, 57, 43, 22, 42, 26, 54, 56, 55, 34, 57, 38, 44, 34, 45, 35, 59, 21, 22], \"z\": [36, 53, 39, 39, 45, 34, 37, 47, 45, 50, 56, 50, 24, 34, 41, 45, 18, 39, 47, 59, 59, 52, 43, 62, 55, 53, 30, 28, 38, 30, 37, 48, 40, 42, 58, 37, 54, 53, 39, 47, 41, 51, 44, 34, 27, 38, 31, 58, 49, 46, 57]}, {\"hoverlabel\": {\"namelength\": 0}, \"hovertemplate\": \"Cluster=3<br>Age=%{x}<br>Annual Income (k$)=%{y}<br>Spending Score (1-100)=%{z}\", \"legendgroup\": \"Cluster=3\", \"marker\": {\"color\": \"#EF553B\", \"symbol\": \"circle\"}, \"mode\": \"markers\", \"name\": \"Cluster=3\", \"scene\": \"scene\", \"showlegend\": true, \"type\": \"scatter3d\", \"x\": [59, 39, 51, 38, 41, 31, 20, 43, 25, 28, 37, 31, 56, 23, 23, 65, 40, 46, 41, 53, 18, 30, 38, 36, 51, 54, 64, 42], \"y\": [79, 57, 65, 63, 50, 70, 57, 66, 52, 49, 37, 73, 37, 44, 62, 63, 45, 25, 69, 60, 85, 55, 60, 63, 50, 60, 60, 51], \"z\": [2, 10, 22, 5, 19, 4, 25, 27, 3, 1, 7, 2, 22, 17, 4, 3, 16, 7, 10, 23, 2, 31, 31, 18, 13, 10, 25, 26]}, {\"hoverlabel\": {\"namelength\": 0}, \"hovertemplate\": \"Cluster=0<br>Age=%{x}<br>Annual Income (k$)=%{y}<br>Spending Score (1-100)=%{z}\", \"legendgroup\": \"Cluster=0\", \"marker\": {\"color\": \"#00cc96\", \"symbol\": \"circle\"}, \"mode\": \"markers\", \"name\": \"Cluster=0\", \"scene\": \"scene\", \"showlegend\": true, \"type\": \"scatter3d\", \"x\": [39, 26, 37, 23, 54, 47, 52, 56, 58, 20, 18, 41, 21, 45, 34, 28, 48, 36, 39, 28, 44, 48, 35, 40, 38, 41, 52, 50, 57, 43, 64, 38, 34, 22, 29, 42, 50], \"y\": [79, 82, 107, 77, 86, 79, 71, 112, 79, 84, 107, 71, 74, 74, 109, 98, 77, 93, 78, 93, 82, 97, 132, 118, 80, 69, 72, 100, 101, 76, 92, 72, 97, 90, 92, 83, 85], \"z\": [60, 77, 85, 70, 58, 91, 76, 59, 66, 62, 65, 69, 71, 80, 72, 71, 66, 97, 60, 61, 74, 54, 46, 75, 67, 75, 83, 70, 63, 91, 95, 73, 70, 80, 57, 71, 66]}, {\"hoverlabel\": {\"namelength\": 0}, \"hovertemplate\": \"Cluster=1<br>Age=%{x}<br>Annual Income (k$)=%{y}<br>Spending Score (1-100)=%{z}\", \"legendgroup\": \"Cluster=1\", \"marker\": {\"color\": \"#ab63fa\", \"symbol\": \"circle\"}, \"mode\": \"markers\", \"name\": \"Cluster=1\", \"scene\": \"scene\", \"showlegend\": true, \"type\": \"scatter3d\", \"x\": [28, 23, 41, 46, 41, 41, 40, 39, 41, 48, 33, 37, 47, 32, 25, 39, 59, 44, 31, 56, 25, 30, 30, 48, 19, 27, 54, 37, 39, 53, 23, 31, 30, 62, 56, 31, 22, 58, 24, 66, 69, 24, 40, 53, 64, 47, 30, 37], \"y\": [70, 89, 84, 78, 88, 70, 93, 105, 78, 75, 73, 85, 80, 70, 77, 75, 60, 66, 81, 63, 91, 78, 97, 70, 63, 84, 90, 95, 67, 86, 79, 73, 74, 68, 80, 73, 75, 104, 77, 69, 95, 100, 93, 64, 74, 89, 80, 70], \"z\": [34, 34, 33, 28, 36, 52, 28, 38, 53, 51, 36, 42, 23, 49, 22, 50, 35, 54, 54, 48, 36, 35, 24, 29, 41, 34, 8, 49, 53, 18, 39, 48, 55, 27, 38, 39, 47, 15, 37, 48, 37, 43, 30, 49, 39, 20, 28, 37]}, {\"hoverlabel\": {\"namelength\": 0}, \"hovertemplate\": \"Cluster=2<br>Age=%{x}<br>Annual Income (k$)=%{y}<br>Spending Score (1-100)=%{z}\", \"legendgroup\": \"Cluster=2\", \"marker\": {\"color\": \"#FFA15A\", \"symbol\": \"circle\"}, \"mode\": \"markers\", \"name\": \"Cluster=2\", \"scene\": \"scene\", \"showlegend\": true, \"type\": \"scatter3d\", \"x\": [24, 56, 41, 33, 53, 45, 66, 34, 33, 48, 54, 37, 35, 36, 32, 44, 47, 65, 33, 51, 57, 29, 42, 50, 56, 49, 29, 26, 41, 31, 35, 44, 58, 55, 41, 63], \"y\": [38, 43, 60, 60, 51, 48, 39, 49, 51, 66, 60, 50, 41, 38, 52, 56, 42, 16, 52, 51, 38, 26, 61, 60, 62, 35, 53, 55, 55, 26, 44, 41, 65, 40, 33, 68], \"z\": [68, 76, 81, 83, 91, 66, 84, 79, 71, 64, 58, 73, 81, 73, 80, 73, 67, 83, 81, 80, 81, 83, 70, 60, 63, 70, 78, 63, 88, 84, 96, 73, 91, 73, 84, 81]}],\n",
              "                        {\"legend\": {\"tracegroupgap\": 0}, \"margin\": {\"t\": 60}, \"scene\": {\"domain\": {\"x\": [0.0, 1.0], \"y\": [0.0, 1.0]}, \"xaxis\": {\"title\": {\"text\": \"Age\"}}, \"yaxis\": {\"title\": {\"text\": \"Annual Income (k$)\"}}, \"zaxis\": {\"title\": {\"text\": \"Spending Score (1-100)\"}}}, \"template\": {\"data\": {\"bar\": [{\"error_x\": {\"color\": \"#2a3f5f\"}, \"error_y\": {\"color\": \"#2a3f5f\"}, \"marker\": {\"line\": {\"color\": \"#E5ECF6\", \"width\": 0.5}}, \"type\": \"bar\"}], \"barpolar\": [{\"marker\": {\"line\": {\"color\": \"#E5ECF6\", \"width\": 0.5}}, \"type\": \"barpolar\"}], \"carpet\": [{\"aaxis\": {\"endlinecolor\": \"#2a3f5f\", \"gridcolor\": \"white\", \"linecolor\": \"white\", \"minorgridcolor\": \"white\", \"startlinecolor\": \"#2a3f5f\"}, \"baxis\": {\"endlinecolor\": \"#2a3f5f\", \"gridcolor\": \"white\", \"linecolor\": \"white\", \"minorgridcolor\": \"white\", \"startlinecolor\": \"#2a3f5f\"}, \"type\": \"carpet\"}], \"choropleth\": [{\"colorbar\": {\"outlinewidth\": 0, \"ticks\": \"\"}, \"type\": \"choropleth\"}], \"contour\": [{\"colorbar\": {\"outlinewidth\": 0, \"ticks\": \"\"}, \"colorscale\": [[0.0, \"#0d0887\"], [0.1111111111111111, \"#46039f\"], [0.2222222222222222, \"#7201a8\"], [0.3333333333333333, \"#9c179e\"], [0.4444444444444444, \"#bd3786\"], [0.5555555555555556, \"#d8576b\"], [0.6666666666666666, \"#ed7953\"], [0.7777777777777778, \"#fb9f3a\"], [0.8888888888888888, \"#fdca26\"], [1.0, \"#f0f921\"]], \"type\": \"contour\"}], \"contourcarpet\": [{\"colorbar\": {\"outlinewidth\": 0, \"ticks\": \"\"}, \"type\": \"contourcarpet\"}], \"heatmap\": [{\"colorbar\": {\"outlinewidth\": 0, \"ticks\": \"\"}, \"colorscale\": [[0.0, \"#0d0887\"], [0.1111111111111111, \"#46039f\"], [0.2222222222222222, \"#7201a8\"], [0.3333333333333333, \"#9c179e\"], [0.4444444444444444, \"#bd3786\"], [0.5555555555555556, \"#d8576b\"], [0.6666666666666666, \"#ed7953\"], [0.7777777777777778, \"#fb9f3a\"], [0.8888888888888888, \"#fdca26\"], [1.0, \"#f0f921\"]], \"type\": \"heatmap\"}], \"heatmapgl\": [{\"colorbar\": {\"outlinewidth\": 0, \"ticks\": \"\"}, \"colorscale\": [[0.0, \"#0d0887\"], [0.1111111111111111, \"#46039f\"], [0.2222222222222222, \"#7201a8\"], [0.3333333333333333, \"#9c179e\"], [0.4444444444444444, \"#bd3786\"], [0.5555555555555556, \"#d8576b\"], [0.6666666666666666, \"#ed7953\"], [0.7777777777777778, \"#fb9f3a\"], [0.8888888888888888, \"#fdca26\"], [1.0, \"#f0f921\"]], \"type\": \"heatmapgl\"}], \"histogram\": [{\"marker\": {\"colorbar\": {\"outlinewidth\": 0, \"ticks\": \"\"}}, \"type\": \"histogram\"}], \"histogram2d\": [{\"colorbar\": {\"outlinewidth\": 0, \"ticks\": \"\"}, \"colorscale\": [[0.0, \"#0d0887\"], [0.1111111111111111, \"#46039f\"], [0.2222222222222222, \"#7201a8\"], [0.3333333333333333, \"#9c179e\"], [0.4444444444444444, \"#bd3786\"], [0.5555555555555556, \"#d8576b\"], [0.6666666666666666, \"#ed7953\"], [0.7777777777777778, \"#fb9f3a\"], [0.8888888888888888, \"#fdca26\"], [1.0, \"#f0f921\"]], \"type\": \"histogram2d\"}], \"histogram2dcontour\": [{\"colorbar\": {\"outlinewidth\": 0, \"ticks\": \"\"}, \"colorscale\": [[0.0, \"#0d0887\"], [0.1111111111111111, \"#46039f\"], [0.2222222222222222, \"#7201a8\"], [0.3333333333333333, \"#9c179e\"], [0.4444444444444444, \"#bd3786\"], [0.5555555555555556, \"#d8576b\"], [0.6666666666666666, \"#ed7953\"], [0.7777777777777778, \"#fb9f3a\"], [0.8888888888888888, \"#fdca26\"], [1.0, \"#f0f921\"]], \"type\": \"histogram2dcontour\"}], \"mesh3d\": [{\"colorbar\": {\"outlinewidth\": 0, \"ticks\": \"\"}, \"type\": \"mesh3d\"}], \"parcoords\": [{\"line\": {\"colorbar\": {\"outlinewidth\": 0, \"ticks\": \"\"}}, \"type\": \"parcoords\"}], \"pie\": [{\"automargin\": true, \"type\": \"pie\"}], \"scatter\": [{\"marker\": {\"colorbar\": {\"outlinewidth\": 0, \"ticks\": \"\"}}, \"type\": \"scatter\"}], \"scatter3d\": [{\"line\": {\"colorbar\": {\"outlinewidth\": 0, \"ticks\": \"\"}}, \"marker\": {\"colorbar\": {\"outlinewidth\": 0, \"ticks\": \"\"}}, \"type\": \"scatter3d\"}], \"scattercarpet\": [{\"marker\": {\"colorbar\": {\"outlinewidth\": 0, \"ticks\": \"\"}}, \"type\": \"scattercarpet\"}], \"scattergeo\": [{\"marker\": {\"colorbar\": {\"outlinewidth\": 0, \"ticks\": \"\"}}, \"type\": \"scattergeo\"}], \"scattergl\": [{\"marker\": {\"colorbar\": {\"outlinewidth\": 0, \"ticks\": \"\"}}, \"type\": \"scattergl\"}], \"scattermapbox\": [{\"marker\": {\"colorbar\": {\"outlinewidth\": 0, \"ticks\": \"\"}}, \"type\": \"scattermapbox\"}], \"scatterpolar\": [{\"marker\": {\"colorbar\": {\"outlinewidth\": 0, \"ticks\": \"\"}}, \"type\": \"scatterpolar\"}], \"scatterpolargl\": [{\"marker\": {\"colorbar\": {\"outlinewidth\": 0, \"ticks\": \"\"}}, \"type\": \"scatterpolargl\"}], \"scatterternary\": [{\"marker\": {\"colorbar\": {\"outlinewidth\": 0, \"ticks\": \"\"}}, \"type\": \"scatterternary\"}], \"surface\": [{\"colorbar\": {\"outlinewidth\": 0, \"ticks\": \"\"}, \"colorscale\": [[0.0, \"#0d0887\"], [0.1111111111111111, \"#46039f\"], [0.2222222222222222, \"#7201a8\"], [0.3333333333333333, \"#9c179e\"], [0.4444444444444444, \"#bd3786\"], [0.5555555555555556, \"#d8576b\"], [0.6666666666666666, \"#ed7953\"], [0.7777777777777778, \"#fb9f3a\"], [0.8888888888888888, \"#fdca26\"], [1.0, \"#f0f921\"]], \"type\": \"surface\"}], \"table\": [{\"cells\": {\"fill\": {\"color\": \"#EBF0F8\"}, \"line\": {\"color\": \"white\"}}, \"header\": {\"fill\": {\"color\": \"#C8D4E3\"}, \"line\": {\"color\": \"white\"}}, \"type\": \"table\"}]}, \"layout\": {\"annotationdefaults\": {\"arrowcolor\": \"#2a3f5f\", \"arrowhead\": 0, \"arrowwidth\": 1}, \"coloraxis\": {\"colorbar\": {\"outlinewidth\": 0, \"ticks\": \"\"}}, \"colorscale\": {\"diverging\": [[0, \"#8e0152\"], [0.1, \"#c51b7d\"], [0.2, \"#de77ae\"], [0.3, \"#f1b6da\"], [0.4, \"#fde0ef\"], [0.5, \"#f7f7f7\"], [0.6, \"#e6f5d0\"], [0.7, \"#b8e186\"], [0.8, \"#7fbc41\"], [0.9, \"#4d9221\"], [1, \"#276419\"]], \"sequential\": [[0.0, \"#0d0887\"], [0.1111111111111111, \"#46039f\"], [0.2222222222222222, \"#7201a8\"], [0.3333333333333333, \"#9c179e\"], [0.4444444444444444, \"#bd3786\"], [0.5555555555555556, \"#d8576b\"], [0.6666666666666666, \"#ed7953\"], [0.7777777777777778, \"#fb9f3a\"], [0.8888888888888888, \"#fdca26\"], [1.0, \"#f0f921\"]], \"sequentialminus\": [[0.0, \"#0d0887\"], [0.1111111111111111, \"#46039f\"], [0.2222222222222222, \"#7201a8\"], [0.3333333333333333, \"#9c179e\"], [0.4444444444444444, \"#bd3786\"], [0.5555555555555556, \"#d8576b\"], [0.6666666666666666, \"#ed7953\"], [0.7777777777777778, \"#fb9f3a\"], [0.8888888888888888, \"#fdca26\"], [1.0, \"#f0f921\"]]}, \"colorway\": [\"#636efa\", \"#EF553B\", \"#00cc96\", \"#ab63fa\", \"#FFA15A\", \"#19d3f3\", \"#FF6692\", \"#B6E880\", \"#FF97FF\", \"#FECB52\"], \"font\": {\"color\": \"#2a3f5f\"}, \"geo\": {\"bgcolor\": \"white\", \"lakecolor\": \"white\", \"landcolor\": \"#E5ECF6\", \"showlakes\": true, \"showland\": true, \"subunitcolor\": \"white\"}, \"hoverlabel\": {\"align\": \"left\"}, \"hovermode\": \"closest\", \"mapbox\": {\"style\": \"light\"}, \"paper_bgcolor\": \"white\", \"plot_bgcolor\": \"#E5ECF6\", \"polar\": {\"angularaxis\": {\"gridcolor\": \"white\", \"linecolor\": \"white\", \"ticks\": \"\"}, \"bgcolor\": \"#E5ECF6\", \"radialaxis\": {\"gridcolor\": \"white\", \"linecolor\": \"white\", \"ticks\": \"\"}}, \"scene\": {\"xaxis\": {\"backgroundcolor\": \"#E5ECF6\", \"gridcolor\": \"white\", \"gridwidth\": 2, \"linecolor\": \"white\", \"showbackground\": true, \"ticks\": \"\", \"zerolinecolor\": \"white\"}, \"yaxis\": {\"backgroundcolor\": \"#E5ECF6\", \"gridcolor\": \"white\", \"gridwidth\": 2, \"linecolor\": \"white\", \"showbackground\": true, \"ticks\": \"\", \"zerolinecolor\": \"white\"}, \"zaxis\": {\"backgroundcolor\": \"#E5ECF6\", \"gridcolor\": \"white\", \"gridwidth\": 2, \"linecolor\": \"white\", \"showbackground\": true, \"ticks\": \"\", \"zerolinecolor\": \"white\"}}, \"shapedefaults\": {\"line\": {\"color\": \"#2a3f5f\"}}, \"ternary\": {\"aaxis\": {\"gridcolor\": \"white\", \"linecolor\": \"white\", \"ticks\": \"\"}, \"baxis\": {\"gridcolor\": \"white\", \"linecolor\": \"white\", \"ticks\": \"\"}, \"bgcolor\": \"#E5ECF6\", \"caxis\": {\"gridcolor\": \"white\", \"linecolor\": \"white\", \"ticks\": \"\"}}, \"title\": {\"x\": 0.05}, \"xaxis\": {\"automargin\": true, \"gridcolor\": \"white\", \"linecolor\": \"white\", \"ticks\": \"\", \"title\": {\"standoff\": 15}, \"zerolinecolor\": \"white\", \"zerolinewidth\": 2}, \"yaxis\": {\"automargin\": true, \"gridcolor\": \"white\", \"linecolor\": \"white\", \"ticks\": \"\", \"title\": {\"standoff\": 15}, \"zerolinecolor\": \"white\", \"zerolinewidth\": 2}}}},\n",
              "                        {\"responsive\": true}\n",
              "                    ).then(function(){\n",
              "                            \n",
              "var gd = document.getElementById('8bc9897a-e921-4d3d-875f-8b540906b2ef');\n",
              "var x = new MutationObserver(function (mutations, observer) {{\n",
              "        var display = window.getComputedStyle(gd).display;\n",
              "        if (!display || display === 'none') {{\n",
              "            console.log([gd, 'removed!']);\n",
              "            Plotly.purge(gd);\n",
              "            observer.disconnect();\n",
              "        }}\n",
              "}});\n",
              "\n",
              "// Listen for the removal of the full notebook cells\n",
              "var notebookContainer = gd.closest('#notebook-container');\n",
              "if (notebookContainer) {{\n",
              "    x.observe(notebookContainer, {childList: true});\n",
              "}}\n",
              "\n",
              "// Listen for the clearing of the current output cell\n",
              "var outputEl = gd.closest('.output');\n",
              "if (outputEl) {{\n",
              "    x.observe(outputEl, {childList: true});\n",
              "}}\n",
              "\n",
              "                        })\n",
              "                };\n",
              "                \n",
              "            </script>\n",
              "        </div>\n",
              "</body>\n",
              "</html>"
            ]
          },
          "metadata": {
            "tags": []
          }
        }
      ]
    },
    {
      "cell_type": "markdown",
      "metadata": {
        "colab_type": "text",
        "id": "c2U_3-z3TeC8"
      },
      "source": [
        "Klastrowanie losowo wygenerowanego zbioru danych daje zupełnie inne rezulaty niż dla danych prawdziwych, pomimo podobnych zakresów wartości. Brak charakterystycznego układu \"X\" z klastrem w centrum.\n"
      ]
    },
    {
      "cell_type": "markdown",
      "metadata": {
        "colab_type": "text",
        "id": "5yuLGF9f4XUN"
      },
      "source": [
        "#### **Krok 7: Algorytmy nadzorowane klasyfikacji**\n",
        "- Udało się za pomocą metody nienadzorowanej podzielić konsumentów na 5 grup. Następnie wykorzystano tak stworzoną klasyfikację jako zbiór treningowy do algorytmu nadzorowanego uczenia maszynowego. \n",
        "- Powyższy algorytm posiada zastosowanie komercyjne, umożliwia przypisywanie nowych klientów do grup konsumenckich na podstawie których kierowane są sprofilowane oferty marketingowe."
      ]
    },
    {
      "cell_type": "markdown",
      "metadata": {
        "colab_type": "text",
        "id": "_nAe2kFtv36D"
      },
      "source": [
        "#### Model drzewa decyzyjnego:"
      ]
    },
    {
      "cell_type": "code",
      "metadata": {
        "colab_type": "code",
        "id": "XZY_WQRpToDt",
        "outputId": "55239333-9f96-4a62-8dc6-4e5221ab0d9b",
        "colab": {
          "base_uri": "https://localhost:8080/",
          "height": 542
        }
      },
      "source": [
        "data = pd.read_csv(\"df.csv\")\n",
        "\n",
        "random.seed(1)\n",
        "\n",
        "X = data[['Age', \n",
        "          'Annual Income (k$)',\n",
        "          'Spending Score (1-100)']]\n",
        "y = data[['Label']]\n",
        "\n",
        "X_train, X_test, y_train, y_test = train_test_split(X, \n",
        "                                                    y, \n",
        "                                                    test_size=0.3, \n",
        "                                                    random_state=1, \n",
        "                                                    stratify=y)\n",
        "mytree = DecisionTreeClassifier(criterion='gini',\n",
        "                                max_depth=4, \n",
        "                                random_state=1)\n",
        "mytree.fit(X_train, \n",
        "           y_train)\n",
        "\n",
        "X_test_2 = dummy_df_wykres[['Age', \n",
        "                            'Annual Income (k$)',\n",
        "                            'Spending Score (1-100)']]\n",
        "\n",
        "y_pred = mytree.predict(X_test_2)\n",
        "\n",
        "dummy_df_wykres_2 = copy.copy(X_test_2)\n",
        "\n",
        "dummy_df_wykres_2['Cluster'] = [str(i) for i in y_pred]\n",
        "\n",
        "wykres_dummy_2 = px.scatter_3d(dummy_df_wykres_2,\n",
        "                             x='Age',\n",
        "                             y='Annual Income (k$)', \n",
        "                             z='Spending Score (1-100)', \n",
        "                             color='Cluster')\n",
        "wykres_dummy_2.show()"
      ],
      "execution_count": 35,
      "outputs": [
        {
          "output_type": "display_data",
          "data": {
            "text/html": [
              "<html>\n",
              "<head><meta charset=\"utf-8\" /></head>\n",
              "<body>\n",
              "    <div>\n",
              "            <script src=\"https://cdnjs.cloudflare.com/ajax/libs/mathjax/2.7.5/MathJax.js?config=TeX-AMS-MML_SVG\"></script><script type=\"text/javascript\">if (window.MathJax) {MathJax.Hub.Config({SVG: {font: \"STIX-Web\"}});}</script>\n",
              "                <script type=\"text/javascript\">window.PlotlyConfig = {MathJaxConfig: 'local'};</script>\n",
              "        <script src=\"https://cdn.plot.ly/plotly-latest.min.js\"></script>    \n",
              "            <div id=\"8911ff56-f31f-47e0-bd36-d092f9953f39\" class=\"plotly-graph-div\" style=\"height:525px; width:100%;\"></div>\n",
              "            <script type=\"text/javascript\">\n",
              "                \n",
              "                    window.PLOTLYENV=window.PLOTLYENV || {};\n",
              "                    \n",
              "                if (document.getElementById(\"8911ff56-f31f-47e0-bd36-d092f9953f39\")) {\n",
              "                    Plotly.newPlot(\n",
              "                        '8911ff56-f31f-47e0-bd36-d092f9953f39',\n",
              "                        [{\"hoverlabel\": {\"namelength\": 0}, \"hovertemplate\": \"Cluster=Klasa \\u015brednia<br>Age=%{x}<br>Annual Income (k$)=%{y}<br>Spending Score (1-100)=%{z}\", \"legendgroup\": \"Cluster=Klasa \\u015brednia\", \"marker\": {\"color\": \"#636efa\", \"symbol\": \"circle\"}, \"mode\": \"markers\", \"name\": \"Cluster=Klasa \\u015brednia\", \"scene\": \"scene\", \"showlegend\": true, \"type\": \"scatter3d\", \"x\": [56, 39, 40, 46, 43, 72, 51, 48, 45, 48, 38, 41, 23, 33, 33, 48, 20, 38, 49, 41, 43, 25, 54, 32, 28, 37, 59, 44, 57, 44, 38, 36, 56, 38, 44, 23, 23, 33, 65, 38, 19, 34, 40, 47, 19, 41, 39, 53, 35, 48, 31, 52, 43, 62, 22, 41, 31, 23, 76, 42, 50, 30, 56, 66, 33, 26, 38, 36, 53, 44, 55, 51, 54, 25, 64, 37, 42], \"y\": [53, 57, 51, 52, 46, 43, 65, 57, 48, 62, 63, 50, 55, 73, 51, 66, 57, 54, 45, 46, 66, 52, 60, 70, 49, 50, 60, 66, 44, 56, 51, 60, 63, 55, 43, 44, 62, 41, 63, 54, 63, 56, 45, 42, 57, 69, 67, 60, 43, 42, 73, 54, 56, 68, 55, 69, 73, 57, 44, 61, 60, 55, 62, 69, 45, 55, 60, 63, 64, 41, 40, 50, 60, 59, 60, 70, 51], \"z\": [36, 10, 39, 39, 34, 37, 22, 45, 66, 50, 5, 19, 56, 36, 71, 64, 25, 34, 41, 45, 27, 3, 58, 49, 1, 73, 35, 54, 47, 73, 59, 43, 48, 55, 53, 17, 4, 28, 3, 37, 41, 48, 16, 67, 42, 10, 53, 23, 58, 54, 48, 39, 47, 27, 41, 75, 39, 44, 27, 70, 60, 31, 63, 48, 31, 63, 31, 18, 49, 73, 73, 13, 10, 49, 25, 37, 26]}, {\"hoverlabel\": {\"namelength\": 0}, \"hovertemplate\": \"Cluster=Pragmatycy z wyboru<br>Age=%{x}<br>Annual Income (k$)=%{y}<br>Spending Score (1-100)=%{z}\", \"legendgroup\": \"Cluster=Pragmatycy z wyboru\", \"marker\": {\"color\": \"#EF553B\", \"symbol\": \"circle\"}, \"mode\": \"markers\", \"name\": \"Cluster=Pragmatycy z wyboru\", \"scene\": \"scene\", \"showlegend\": true, \"type\": \"scatter3d\", \"x\": [59, 28, 23, 41, 46, 41, 40, 39, 48, 31, 37, 47, 25, 39, 31, 25, 30, 30, 48, 27, 54, 37, 53, 35, 23, 18, 56, 22, 58, 24, 69, 24, 40, 64, 47, 30], \"y\": [79, 70, 89, 84, 78, 88, 93, 105, 75, 70, 85, 80, 77, 75, 73, 91, 78, 97, 70, 84, 90, 95, 86, 132, 79, 85, 80, 75, 104, 77, 95, 100, 93, 74, 89, 80], \"z\": [2, 34, 34, 33, 28, 36, 28, 38, 51, 4, 42, 23, 22, 50, 2, 36, 35, 24, 29, 34, 8, 49, 18, 46, 39, 2, 38, 47, 15, 37, 37, 43, 30, 39, 20, 28]}, {\"hoverlabel\": {\"namelength\": 0}, \"hovertemplate\": \"Cluster=M\\u0142odzi rozrzutni<br>Age=%{x}<br>Annual Income (k$)=%{y}<br>Spending Score (1-100)=%{z}\", \"legendgroup\": \"Cluster=M\\u0142odzi rozrzutni\", \"marker\": {\"color\": \"#00cc96\", \"symbol\": \"circle\"}, \"mode\": \"markers\", \"name\": \"Cluster=M\\u0142odzi rozrzutni\", \"scene\": \"scene\", \"showlegend\": true, \"type\": \"scatter3d\", \"x\": [39, 26, 37, 56, 41, 33, 41, 53, 23, 41, 54, 47, 34, 52, 56, 58, 20, 18, 35, 32, 41, 21, 45, 31, 34, 28, 48, 36, 33, 39, 28, 51, 44, 48, 40, 30, 38, 52, 50, 57, 43, 29, 64, 38, 41, 35, 34, 22, 29, 58, 42, 50, 63], \"y\": [79, 82, 107, 43, 60, 60, 70, 51, 77, 78, 86, 79, 49, 71, 112, 79, 84, 107, 41, 52, 71, 74, 74, 81, 109, 98, 77, 93, 52, 78, 93, 51, 82, 97, 118, 74, 80, 72, 100, 101, 76, 53, 92, 72, 55, 44, 97, 90, 92, 65, 83, 85, 68], \"z\": [60, 77, 85, 76, 81, 83, 52, 91, 70, 53, 58, 91, 79, 76, 59, 66, 62, 65, 81, 80, 69, 71, 80, 54, 72, 71, 66, 97, 81, 60, 61, 80, 74, 54, 75, 55, 67, 83, 70, 63, 91, 78, 95, 73, 88, 96, 70, 80, 57, 91, 71, 66, 81]}, {\"hoverlabel\": {\"namelength\": 0}, \"hovertemplate\": \"Cluster=M\\u0142odzi konsumenci<br>Age=%{x}<br>Annual Income (k$)=%{y}<br>Spending Score (1-100)=%{z}\", \"legendgroup\": \"Cluster=M\\u0142odzi konsumenci\", \"marker\": {\"color\": \"#ab63fa\", \"symbol\": \"circle\"}, \"mode\": \"markers\", \"name\": \"Cluster=M\\u0142odzi konsumenci\", \"scene\": \"scene\", \"showlegend\": true, \"type\": \"scatter3d\", \"x\": [24, 18, 66, 36, 35, 25, 40, 65, 53, 57, 29, 39, 49, 31, 34, 41, 33], \"y\": [38, 29, 39, 38, 37, 31, 30, 16, 26, 38, 26, 34, 35, 26, 35, 33, 22], \"z\": [68, 53, 84, 73, 59, 52, 62, 83, 53, 81, 83, 51, 70, 84, 58, 84, 57]}, {\"hoverlabel\": {\"namelength\": 0}, \"hovertemplate\": \"Cluster=Pragmatycy z przymusu<br>Age=%{x}<br>Annual Income (k$)=%{y}<br>Spending Score (1-100)=%{z}\", \"legendgroup\": \"Cluster=Pragmatycy z przymusu\", \"marker\": {\"color\": \"#FFA15A\", \"symbol\": \"circle\"}, \"mode\": \"markers\", \"name\": \"Cluster=Pragmatycy z przymusu\", \"scene\": \"scene\", \"showlegend\": true, \"type\": \"scatter3d\", \"x\": [38, 36, 32, 20, 47, 49, 37, 56, 44, 48, 22, 55, 46, 43, 45, 43, 36], \"y\": [39, 29, 37, 23, 22, 29, 37, 37, 21, 31, 28, 32, 25, 22, 38, 34, 21], \"z\": [45, 47, 50, 24, 18, 39, 7, 22, 30, 38, 30, 40, 7, 37, 34, 38, 46]}],\n",
              "                        {\"legend\": {\"tracegroupgap\": 0}, \"margin\": {\"t\": 60}, \"scene\": {\"domain\": {\"x\": [0.0, 1.0], \"y\": [0.0, 1.0]}, \"xaxis\": {\"title\": {\"text\": \"Age\"}}, \"yaxis\": {\"title\": {\"text\": \"Annual Income (k$)\"}}, \"zaxis\": {\"title\": {\"text\": \"Spending Score (1-100)\"}}}, \"template\": {\"data\": {\"bar\": [{\"error_x\": {\"color\": \"#2a3f5f\"}, \"error_y\": {\"color\": \"#2a3f5f\"}, \"marker\": {\"line\": {\"color\": \"#E5ECF6\", \"width\": 0.5}}, \"type\": \"bar\"}], \"barpolar\": [{\"marker\": {\"line\": {\"color\": \"#E5ECF6\", \"width\": 0.5}}, \"type\": \"barpolar\"}], \"carpet\": [{\"aaxis\": {\"endlinecolor\": \"#2a3f5f\", \"gridcolor\": \"white\", \"linecolor\": \"white\", \"minorgridcolor\": \"white\", \"startlinecolor\": \"#2a3f5f\"}, \"baxis\": {\"endlinecolor\": \"#2a3f5f\", \"gridcolor\": \"white\", \"linecolor\": \"white\", \"minorgridcolor\": \"white\", \"startlinecolor\": \"#2a3f5f\"}, \"type\": \"carpet\"}], \"choropleth\": [{\"colorbar\": {\"outlinewidth\": 0, \"ticks\": \"\"}, \"type\": \"choropleth\"}], \"contour\": [{\"colorbar\": {\"outlinewidth\": 0, \"ticks\": \"\"}, \"colorscale\": [[0.0, \"#0d0887\"], [0.1111111111111111, \"#46039f\"], [0.2222222222222222, \"#7201a8\"], [0.3333333333333333, \"#9c179e\"], [0.4444444444444444, \"#bd3786\"], [0.5555555555555556, \"#d8576b\"], [0.6666666666666666, \"#ed7953\"], [0.7777777777777778, \"#fb9f3a\"], [0.8888888888888888, \"#fdca26\"], [1.0, \"#f0f921\"]], \"type\": \"contour\"}], \"contourcarpet\": [{\"colorbar\": {\"outlinewidth\": 0, \"ticks\": \"\"}, \"type\": \"contourcarpet\"}], \"heatmap\": [{\"colorbar\": {\"outlinewidth\": 0, \"ticks\": \"\"}, \"colorscale\": [[0.0, \"#0d0887\"], [0.1111111111111111, \"#46039f\"], [0.2222222222222222, \"#7201a8\"], [0.3333333333333333, \"#9c179e\"], [0.4444444444444444, \"#bd3786\"], [0.5555555555555556, \"#d8576b\"], [0.6666666666666666, \"#ed7953\"], [0.7777777777777778, \"#fb9f3a\"], [0.8888888888888888, \"#fdca26\"], [1.0, \"#f0f921\"]], \"type\": \"heatmap\"}], \"heatmapgl\": [{\"colorbar\": {\"outlinewidth\": 0, \"ticks\": \"\"}, \"colorscale\": [[0.0, \"#0d0887\"], [0.1111111111111111, \"#46039f\"], [0.2222222222222222, \"#7201a8\"], [0.3333333333333333, \"#9c179e\"], [0.4444444444444444, \"#bd3786\"], [0.5555555555555556, \"#d8576b\"], [0.6666666666666666, \"#ed7953\"], [0.7777777777777778, \"#fb9f3a\"], [0.8888888888888888, \"#fdca26\"], [1.0, \"#f0f921\"]], \"type\": \"heatmapgl\"}], \"histogram\": [{\"marker\": {\"colorbar\": {\"outlinewidth\": 0, \"ticks\": \"\"}}, \"type\": \"histogram\"}], \"histogram2d\": [{\"colorbar\": {\"outlinewidth\": 0, \"ticks\": \"\"}, \"colorscale\": [[0.0, \"#0d0887\"], [0.1111111111111111, \"#46039f\"], [0.2222222222222222, \"#7201a8\"], [0.3333333333333333, \"#9c179e\"], [0.4444444444444444, \"#bd3786\"], [0.5555555555555556, \"#d8576b\"], [0.6666666666666666, \"#ed7953\"], [0.7777777777777778, \"#fb9f3a\"], [0.8888888888888888, \"#fdca26\"], [1.0, \"#f0f921\"]], \"type\": \"histogram2d\"}], \"histogram2dcontour\": [{\"colorbar\": {\"outlinewidth\": 0, \"ticks\": \"\"}, \"colorscale\": [[0.0, \"#0d0887\"], [0.1111111111111111, \"#46039f\"], [0.2222222222222222, \"#7201a8\"], [0.3333333333333333, \"#9c179e\"], [0.4444444444444444, \"#bd3786\"], [0.5555555555555556, \"#d8576b\"], [0.6666666666666666, \"#ed7953\"], [0.7777777777777778, \"#fb9f3a\"], [0.8888888888888888, \"#fdca26\"], [1.0, \"#f0f921\"]], \"type\": \"histogram2dcontour\"}], \"mesh3d\": [{\"colorbar\": {\"outlinewidth\": 0, \"ticks\": \"\"}, \"type\": \"mesh3d\"}], \"parcoords\": [{\"line\": {\"colorbar\": {\"outlinewidth\": 0, \"ticks\": \"\"}}, \"type\": \"parcoords\"}], \"pie\": [{\"automargin\": true, \"type\": \"pie\"}], \"scatter\": [{\"marker\": {\"colorbar\": {\"outlinewidth\": 0, \"ticks\": \"\"}}, \"type\": \"scatter\"}], \"scatter3d\": [{\"line\": {\"colorbar\": {\"outlinewidth\": 0, \"ticks\": \"\"}}, \"marker\": {\"colorbar\": {\"outlinewidth\": 0, \"ticks\": \"\"}}, \"type\": \"scatter3d\"}], \"scattercarpet\": [{\"marker\": {\"colorbar\": {\"outlinewidth\": 0, \"ticks\": \"\"}}, \"type\": \"scattercarpet\"}], \"scattergeo\": [{\"marker\": {\"colorbar\": {\"outlinewidth\": 0, \"ticks\": \"\"}}, \"type\": \"scattergeo\"}], \"scattergl\": [{\"marker\": {\"colorbar\": {\"outlinewidth\": 0, \"ticks\": \"\"}}, \"type\": \"scattergl\"}], \"scattermapbox\": [{\"marker\": {\"colorbar\": {\"outlinewidth\": 0, \"ticks\": \"\"}}, \"type\": \"scattermapbox\"}], \"scatterpolar\": [{\"marker\": {\"colorbar\": {\"outlinewidth\": 0, \"ticks\": \"\"}}, \"type\": \"scatterpolar\"}], \"scatterpolargl\": [{\"marker\": {\"colorbar\": {\"outlinewidth\": 0, \"ticks\": \"\"}}, \"type\": \"scatterpolargl\"}], \"scatterternary\": [{\"marker\": {\"colorbar\": {\"outlinewidth\": 0, \"ticks\": \"\"}}, \"type\": \"scatterternary\"}], \"surface\": [{\"colorbar\": {\"outlinewidth\": 0, \"ticks\": \"\"}, \"colorscale\": [[0.0, \"#0d0887\"], [0.1111111111111111, \"#46039f\"], [0.2222222222222222, \"#7201a8\"], [0.3333333333333333, \"#9c179e\"], [0.4444444444444444, \"#bd3786\"], [0.5555555555555556, \"#d8576b\"], [0.6666666666666666, \"#ed7953\"], [0.7777777777777778, \"#fb9f3a\"], [0.8888888888888888, \"#fdca26\"], [1.0, \"#f0f921\"]], \"type\": \"surface\"}], \"table\": [{\"cells\": {\"fill\": {\"color\": \"#EBF0F8\"}, \"line\": {\"color\": \"white\"}}, \"header\": {\"fill\": {\"color\": \"#C8D4E3\"}, \"line\": {\"color\": \"white\"}}, \"type\": \"table\"}]}, \"layout\": {\"annotationdefaults\": {\"arrowcolor\": \"#2a3f5f\", \"arrowhead\": 0, \"arrowwidth\": 1}, \"coloraxis\": {\"colorbar\": {\"outlinewidth\": 0, \"ticks\": \"\"}}, \"colorscale\": {\"diverging\": [[0, \"#8e0152\"], [0.1, \"#c51b7d\"], [0.2, \"#de77ae\"], [0.3, \"#f1b6da\"], [0.4, \"#fde0ef\"], [0.5, \"#f7f7f7\"], [0.6, \"#e6f5d0\"], [0.7, \"#b8e186\"], [0.8, \"#7fbc41\"], [0.9, \"#4d9221\"], [1, \"#276419\"]], \"sequential\": [[0.0, \"#0d0887\"], [0.1111111111111111, \"#46039f\"], [0.2222222222222222, \"#7201a8\"], [0.3333333333333333, \"#9c179e\"], [0.4444444444444444, \"#bd3786\"], [0.5555555555555556, \"#d8576b\"], [0.6666666666666666, \"#ed7953\"], [0.7777777777777778, \"#fb9f3a\"], [0.8888888888888888, \"#fdca26\"], [1.0, \"#f0f921\"]], \"sequentialminus\": [[0.0, \"#0d0887\"], [0.1111111111111111, \"#46039f\"], [0.2222222222222222, \"#7201a8\"], [0.3333333333333333, \"#9c179e\"], [0.4444444444444444, \"#bd3786\"], [0.5555555555555556, \"#d8576b\"], [0.6666666666666666, \"#ed7953\"], [0.7777777777777778, \"#fb9f3a\"], [0.8888888888888888, \"#fdca26\"], [1.0, \"#f0f921\"]]}, \"colorway\": [\"#636efa\", \"#EF553B\", \"#00cc96\", \"#ab63fa\", \"#FFA15A\", \"#19d3f3\", \"#FF6692\", \"#B6E880\", \"#FF97FF\", \"#FECB52\"], \"font\": {\"color\": \"#2a3f5f\"}, \"geo\": {\"bgcolor\": \"white\", \"lakecolor\": \"white\", \"landcolor\": \"#E5ECF6\", \"showlakes\": true, \"showland\": true, \"subunitcolor\": \"white\"}, \"hoverlabel\": {\"align\": \"left\"}, \"hovermode\": \"closest\", \"mapbox\": {\"style\": \"light\"}, \"paper_bgcolor\": \"white\", \"plot_bgcolor\": \"#E5ECF6\", \"polar\": {\"angularaxis\": {\"gridcolor\": \"white\", \"linecolor\": \"white\", \"ticks\": \"\"}, \"bgcolor\": \"#E5ECF6\", \"radialaxis\": {\"gridcolor\": \"white\", \"linecolor\": \"white\", \"ticks\": \"\"}}, \"scene\": {\"xaxis\": {\"backgroundcolor\": \"#E5ECF6\", \"gridcolor\": \"white\", \"gridwidth\": 2, \"linecolor\": \"white\", \"showbackground\": true, \"ticks\": \"\", \"zerolinecolor\": \"white\"}, \"yaxis\": {\"backgroundcolor\": \"#E5ECF6\", \"gridcolor\": \"white\", \"gridwidth\": 2, \"linecolor\": \"white\", \"showbackground\": true, \"ticks\": \"\", \"zerolinecolor\": \"white\"}, \"zaxis\": {\"backgroundcolor\": \"#E5ECF6\", \"gridcolor\": \"white\", \"gridwidth\": 2, \"linecolor\": \"white\", \"showbackground\": true, \"ticks\": \"\", \"zerolinecolor\": \"white\"}}, \"shapedefaults\": {\"line\": {\"color\": \"#2a3f5f\"}}, \"ternary\": {\"aaxis\": {\"gridcolor\": \"white\", \"linecolor\": \"white\", \"ticks\": \"\"}, \"baxis\": {\"gridcolor\": \"white\", \"linecolor\": \"white\", \"ticks\": \"\"}, \"bgcolor\": \"#E5ECF6\", \"caxis\": {\"gridcolor\": \"white\", \"linecolor\": \"white\", \"ticks\": \"\"}}, \"title\": {\"x\": 0.05}, \"xaxis\": {\"automargin\": true, \"gridcolor\": \"white\", \"linecolor\": \"white\", \"ticks\": \"\", \"title\": {\"standoff\": 15}, \"zerolinecolor\": \"white\", \"zerolinewidth\": 2}, \"yaxis\": {\"automargin\": true, \"gridcolor\": \"white\", \"linecolor\": \"white\", \"ticks\": \"\", \"title\": {\"standoff\": 15}, \"zerolinecolor\": \"white\", \"zerolinewidth\": 2}}}},\n",
              "                        {\"responsive\": true}\n",
              "                    ).then(function(){\n",
              "                            \n",
              "var gd = document.getElementById('8911ff56-f31f-47e0-bd36-d092f9953f39');\n",
              "var x = new MutationObserver(function (mutations, observer) {{\n",
              "        var display = window.getComputedStyle(gd).display;\n",
              "        if (!display || display === 'none') {{\n",
              "            console.log([gd, 'removed!']);\n",
              "            Plotly.purge(gd);\n",
              "            observer.disconnect();\n",
              "        }}\n",
              "}});\n",
              "\n",
              "// Listen for the removal of the full notebook cells\n",
              "var notebookContainer = gd.closest('#notebook-container');\n",
              "if (notebookContainer) {{\n",
              "    x.observe(notebookContainer, {childList: true});\n",
              "}}\n",
              "\n",
              "// Listen for the clearing of the current output cell\n",
              "var outputEl = gd.closest('.output');\n",
              "if (outputEl) {{\n",
              "    x.observe(outputEl, {childList: true});\n",
              "}}\n",
              "\n",
              "                        })\n",
              "                };\n",
              "                \n",
              "            </script>\n",
              "        </div>\n",
              "</body>\n",
              "</html>"
            ]
          },
          "metadata": {
            "tags": []
          }
        }
      ]
    },
    {
      "cell_type": "markdown",
      "metadata": {
        "colab_type": "text",
        "id": "3rpNXtnWv9EK"
      },
      "source": [
        "#### Model Lasu Losowego:"
      ]
    },
    {
      "cell_type": "code",
      "metadata": {
        "colab_type": "code",
        "id": "khGaB7jRVtfi",
        "outputId": "a77243c6-f385-46b3-be73-9c7480b11562",
        "colab": {
          "base_uri": "https://localhost:8080/",
          "height": 34
        }
      },
      "source": [
        "X = data[['Age', \n",
        "          'Annual Income (k$)',\n",
        "          'Spending Score (1-100)']]\n",
        "\n",
        "y = np.ravel(data[['Cluster']])\n",
        "\n",
        "# Podział na zbiór testowy i uczący\n",
        "X_train, X_test, y_train, y_test = train_test_split(X, \n",
        "                                                    y, \n",
        "                                                    test_size=0.3) # 30% testowy, 70% treningowy \n",
        "clf=RandomForestClassifier(n_estimators=50)\n",
        "\n",
        "#Uczymy model\n",
        "clf.fit(X_train,\n",
        "        y_train)\n",
        "\n",
        "y_pred=clf.predict(X_test)\n",
        "\n",
        "# Jak często klasyfikator daje poprawne wyniki?\n",
        "print(\"Poprawność predykcji:\",round(accuracy_score(y_test, y_pred),2)*100,\"%\")"
      ],
      "execution_count": 36,
      "outputs": [
        {
          "output_type": "stream",
          "text": [
            "Poprawność predykcji: 98.0 %\n"
          ],
          "name": "stdout"
        }
      ]
    },
    {
      "cell_type": "markdown",
      "metadata": {
        "colab_type": "text",
        "id": "o3bYpODzKaOA"
      },
      "source": [
        "Powyższy wynik sugeruje, że nasz model lasu losowego powienien dawać przystępną jakość przewidywania grupy klienta (mając na uwadzę relatywnie niewielką ilość danych wykorzystaną do uczenia)."
      ]
    },
    {
      "cell_type": "code",
      "metadata": {
        "colab_type": "code",
        "id": "SLmM-LhSzd_P",
        "outputId": "6b8f208d-4eb3-44fd-8cab-9e739175290c",
        "colab": {
          "base_uri": "https://localhost:8080/",
          "height": 51
        }
      },
      "source": [
        "#Opis nowego klienta:\n",
        "wiek = 60\n",
        "zarobki = 20\n",
        "popyt = 20\n",
        "\n",
        "#Predykcja klastra dla klienta:\n",
        "przewidywany_klaster = clf.predict([[wiek, zarobki, popyt]])\n",
        "print(\"Osoba o wieku\", wiek, \"lat, zarobkach rocznych\", zarobki,\n",
        "      \"k$, oraz popycie\", popyt, \"powinna należeć do grupy:\",)\n",
        "print(data.loc[data['Cluster'] == int(przewidywany_klaster)].iat[0,-1])"
      ],
      "execution_count": 39,
      "outputs": [
        {
          "output_type": "stream",
          "text": [
            "Osoba o wieku 60 lat, zarobkach rocznych 20 k$, oraz popycie 20 powinna należeć do grupy:\n",
            "Pragmatycy z przymusu\n"
          ],
          "name": "stdout"
        }
      ]
    },
    {
      "cell_type": "markdown",
      "metadata": {
        "colab_type": "text",
        "id": "lkRPZG3SKZXy"
      },
      "source": [
        "Powyższy wynik wydaje się być zgodny z oczekiwaniem."
      ]
    },
    {
      "cell_type": "markdown",
      "metadata": {
        "colab_type": "text",
        "id": "hTXzCwIdYoYs"
      },
      "source": [
        "# **Podsumowanie**\n",
        "\n",
        "W projekcie udało się zrealizować nasze podstawowe założenia:\n",
        "- podział grup klientów centrum handlowego w oparciu o ich wiek, zarobki oraz miarę popytu (tj. rozrzutność)\n",
        "- stworzenie algorytmu przypisującego nowych klientów do odpowiedniej z grup\n",
        "\n",
        "Klasyfikator na podstawie grupowania nienadzorowanego umożliwia dopasowanie zdefiniowanej grupy dla klienta. W połączeniu grupy z płcią, umożliwia to np.:\n",
        "- zaoferowanie programu lojalnościowego opartego o zbieranie punktów klientowi o niskim popycie podczas wizyty\n",
        "- oferowanie rozbudowanych drogich zestawów lub pojedynczych kosmetyków dla kobiet lub meżczyzn, zależnie od ich charakterystyki\n",
        "\n",
        "Modele predykcyjne mogą być niezwykle przydatne w marketingu i sprzedaży dla centrów handlowych i aplikacyjne w sektorach powiązanych. \n",
        "\n",
        "Pomysłem na rozbudowanie projektu byłoby stworzenie uniwersalnego narzędzia marketingowego - zdolnego do grupowania klientów z różnych branż, w oparciu o dane o zróżnicowanym charakterze.\n"
      ]
    }
  ]
}